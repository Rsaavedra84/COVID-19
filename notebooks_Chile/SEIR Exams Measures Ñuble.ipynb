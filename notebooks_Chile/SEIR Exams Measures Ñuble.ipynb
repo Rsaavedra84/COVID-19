{
 "cells": [
  {
   "cell_type": "code",
   "execution_count": 1,
   "metadata": {},
   "outputs": [],
   "source": [
    "import matplotlib.pyplot as plt\n",
    "from scipy.optimize import curve_fit\n",
    "import numpy as np\n",
    "import pandas as pd\n",
    "import datetime\n",
    "\n",
    "import sys\n",
    "sys.path.insert(1, '../src/')\n",
    "\n",
    "from SEIR_exams_measures import *\n"
   ]
  },
  {
   "cell_type": "code",
   "execution_count": 2,
   "metadata": {},
   "outputs": [],
   "source": [
    "df = pd.read_excel(\"../data/Ñuble.xls\")\n",
    "df[\"Fecha_dt\"] = pd.to_datetime (df[\"Fecha\"])\n",
    "i_data = df[\"Contagiados\"].values\n",
    "df = df[df.Contagiados > 50]"
   ]
  },
  {
   "cell_type": "code",
   "execution_count": 3,
   "metadata": {},
   "outputs": [
    {
     "data": {
      "text/html": [
       "<div>\n",
       "<style scoped>\n",
       "    .dataframe tbody tr th:only-of-type {\n",
       "        vertical-align: middle;\n",
       "    }\n",
       "\n",
       "    .dataframe tbody tr th {\n",
       "        vertical-align: top;\n",
       "    }\n",
       "\n",
       "    .dataframe thead th {\n",
       "        text-align: right;\n",
       "    }\n",
       "</style>\n",
       "<table border=\"1\" class=\"dataframe\">\n",
       "  <thead>\n",
       "    <tr style=\"text-align: right;\">\n",
       "      <th></th>\n",
       "      <th>Unnamed: 0</th>\n",
       "      <th>Region</th>\n",
       "      <th>Contagiados</th>\n",
       "      <th>Muertes</th>\n",
       "      <th>Recuperados</th>\n",
       "      <th>Infectados_Actuales</th>\n",
       "      <th>Fecha</th>\n",
       "      <th>Fecha_dt</th>\n",
       "    </tr>\n",
       "  </thead>\n",
       "  <tbody>\n",
       "    <tr>\n",
       "      <th>8</th>\n",
       "      <td>9</td>\n",
       "      <td>Ñuble</td>\n",
       "      <td>57</td>\n",
       "      <td>0</td>\n",
       "      <td>0</td>\n",
       "      <td>57</td>\n",
       "      <td>3/20/2020</td>\n",
       "      <td>2020-03-20</td>\n",
       "    </tr>\n",
       "    <tr>\n",
       "      <th>9</th>\n",
       "      <td>10</td>\n",
       "      <td>Ñuble</td>\n",
       "      <td>66</td>\n",
       "      <td>0</td>\n",
       "      <td>0</td>\n",
       "      <td>66</td>\n",
       "      <td>3/21/2020</td>\n",
       "      <td>2020-03-21</td>\n",
       "    </tr>\n",
       "    <tr>\n",
       "      <th>10</th>\n",
       "      <td>11</td>\n",
       "      <td>Ñuble</td>\n",
       "      <td>93</td>\n",
       "      <td>0</td>\n",
       "      <td>0</td>\n",
       "      <td>93</td>\n",
       "      <td>3/22/2020</td>\n",
       "      <td>2020-03-22</td>\n",
       "    </tr>\n",
       "    <tr>\n",
       "      <th>11</th>\n",
       "      <td>12</td>\n",
       "      <td>Ñuble</td>\n",
       "      <td>107</td>\n",
       "      <td>0</td>\n",
       "      <td>0</td>\n",
       "      <td>107</td>\n",
       "      <td>3/23/2020</td>\n",
       "      <td>2020-03-23</td>\n",
       "    </tr>\n",
       "    <tr>\n",
       "      <th>12</th>\n",
       "      <td>13</td>\n",
       "      <td>Ñuble</td>\n",
       "      <td>112</td>\n",
       "      <td>0</td>\n",
       "      <td>0</td>\n",
       "      <td>112</td>\n",
       "      <td>3/24/2020</td>\n",
       "      <td>2020-03-24</td>\n",
       "    </tr>\n",
       "    <tr>\n",
       "      <th>13</th>\n",
       "      <td>14</td>\n",
       "      <td>Ñuble</td>\n",
       "      <td>120</td>\n",
       "      <td>0</td>\n",
       "      <td>0</td>\n",
       "      <td>120</td>\n",
       "      <td>3/25/2020</td>\n",
       "      <td>2020-03-25</td>\n",
       "    </tr>\n",
       "    <tr>\n",
       "      <th>14</th>\n",
       "      <td>15</td>\n",
       "      <td>Ñuble</td>\n",
       "      <td>150</td>\n",
       "      <td>0</td>\n",
       "      <td>1</td>\n",
       "      <td>149</td>\n",
       "      <td>3/26/2020</td>\n",
       "      <td>2020-03-26</td>\n",
       "    </tr>\n",
       "    <tr>\n",
       "      <th>15</th>\n",
       "      <td>16</td>\n",
       "      <td>Ñuble</td>\n",
       "      <td>184</td>\n",
       "      <td>0</td>\n",
       "      <td>3</td>\n",
       "      <td>181</td>\n",
       "      <td>3/27/2020</td>\n",
       "      <td>2020-03-27</td>\n",
       "    </tr>\n",
       "    <tr>\n",
       "      <th>16</th>\n",
       "      <td>17</td>\n",
       "      <td>Ñuble</td>\n",
       "      <td>199</td>\n",
       "      <td>0</td>\n",
       "      <td>4</td>\n",
       "      <td>195</td>\n",
       "      <td>3/28/2020</td>\n",
       "      <td>2020-03-28</td>\n",
       "    </tr>\n",
       "    <tr>\n",
       "      <th>17</th>\n",
       "      <td>18</td>\n",
       "      <td>Ñuble</td>\n",
       "      <td>232</td>\n",
       "      <td>0</td>\n",
       "      <td>10</td>\n",
       "      <td>222</td>\n",
       "      <td>3/29/2020</td>\n",
       "      <td>2020-03-29</td>\n",
       "    </tr>\n",
       "    <tr>\n",
       "      <th>18</th>\n",
       "      <td>19</td>\n",
       "      <td>Ñuble</td>\n",
       "      <td>279</td>\n",
       "      <td>0</td>\n",
       "      <td>14</td>\n",
       "      <td>265</td>\n",
       "      <td>3/30/2020</td>\n",
       "      <td>2020-03-30</td>\n",
       "    </tr>\n",
       "    <tr>\n",
       "      <th>19</th>\n",
       "      <td>20</td>\n",
       "      <td>Ñuble</td>\n",
       "      <td>319</td>\n",
       "      <td>0</td>\n",
       "      <td>26</td>\n",
       "      <td>293</td>\n",
       "      <td>3/31/2020</td>\n",
       "      <td>2020-03-31</td>\n",
       "    </tr>\n",
       "    <tr>\n",
       "      <th>20</th>\n",
       "      <td>21</td>\n",
       "      <td>Ñuble</td>\n",
       "      <td>359</td>\n",
       "      <td>0</td>\n",
       "      <td>28</td>\n",
       "      <td>331</td>\n",
       "      <td>4/1/2020</td>\n",
       "      <td>2020-04-01</td>\n",
       "    </tr>\n",
       "    <tr>\n",
       "      <th>21</th>\n",
       "      <td>22</td>\n",
       "      <td>Ñuble</td>\n",
       "      <td>380</td>\n",
       "      <td>0</td>\n",
       "      <td>47</td>\n",
       "      <td>333</td>\n",
       "      <td>4/2/2020</td>\n",
       "      <td>2020-04-02</td>\n",
       "    </tr>\n",
       "    <tr>\n",
       "      <th>22</th>\n",
       "      <td>23</td>\n",
       "      <td>Ñuble</td>\n",
       "      <td>415</td>\n",
       "      <td>1</td>\n",
       "      <td>56</td>\n",
       "      <td>358</td>\n",
       "      <td>4/3/2020</td>\n",
       "      <td>2020-04-03</td>\n",
       "    </tr>\n",
       "    <tr>\n",
       "      <th>23</th>\n",
       "      <td>24</td>\n",
       "      <td>Ñuble</td>\n",
       "      <td>468</td>\n",
       "      <td>2</td>\n",
       "      <td>64</td>\n",
       "      <td>402</td>\n",
       "      <td>4/4/2020</td>\n",
       "      <td>2020-04-04</td>\n",
       "    </tr>\n",
       "    <tr>\n",
       "      <th>24</th>\n",
       "      <td>25</td>\n",
       "      <td>Ñuble</td>\n",
       "      <td>513</td>\n",
       "      <td>3</td>\n",
       "      <td>90</td>\n",
       "      <td>420</td>\n",
       "      <td>4/5/2020</td>\n",
       "      <td>2020-04-05</td>\n",
       "    </tr>\n",
       "    <tr>\n",
       "      <th>25</th>\n",
       "      <td>26</td>\n",
       "      <td>Ñuble</td>\n",
       "      <td>545</td>\n",
       "      <td>4</td>\n",
       "      <td>103</td>\n",
       "      <td>438</td>\n",
       "      <td>4/6/2020</td>\n",
       "      <td>2020-04-06</td>\n",
       "    </tr>\n",
       "    <tr>\n",
       "      <th>26</th>\n",
       "      <td>27</td>\n",
       "      <td>Ñuble</td>\n",
       "      <td>568</td>\n",
       "      <td>5</td>\n",
       "      <td>107</td>\n",
       "      <td>456</td>\n",
       "      <td>4/7/2020</td>\n",
       "      <td>2020-04-07</td>\n",
       "    </tr>\n",
       "    <tr>\n",
       "      <th>27</th>\n",
       "      <td>28</td>\n",
       "      <td>Ñuble</td>\n",
       "      <td>578</td>\n",
       "      <td>5</td>\n",
       "      <td>115</td>\n",
       "      <td>458</td>\n",
       "      <td>4/8/2020</td>\n",
       "      <td>2020-04-08</td>\n",
       "    </tr>\n",
       "    <tr>\n",
       "      <th>28</th>\n",
       "      <td>29</td>\n",
       "      <td>Ñuble</td>\n",
       "      <td>588</td>\n",
       "      <td>6</td>\n",
       "      <td>144</td>\n",
       "      <td>438</td>\n",
       "      <td>4/9/2020</td>\n",
       "      <td>2020-04-09</td>\n",
       "    </tr>\n",
       "    <tr>\n",
       "      <th>29</th>\n",
       "      <td>30</td>\n",
       "      <td>Ñuble</td>\n",
       "      <td>606</td>\n",
       "      <td>6</td>\n",
       "      <td>178</td>\n",
       "      <td>422</td>\n",
       "      <td>2020-04-10 00:00:00</td>\n",
       "      <td>2020-04-10</td>\n",
       "    </tr>\n",
       "    <tr>\n",
       "      <th>30</th>\n",
       "      <td>31</td>\n",
       "      <td>Ñuble</td>\n",
       "      <td>613</td>\n",
       "      <td>7</td>\n",
       "      <td>192</td>\n",
       "      <td>414</td>\n",
       "      <td>2020-04-11 00:00:00</td>\n",
       "      <td>2020-04-11</td>\n",
       "    </tr>\n",
       "    <tr>\n",
       "      <th>31</th>\n",
       "      <td>32</td>\n",
       "      <td>Ñuble</td>\n",
       "      <td>618</td>\n",
       "      <td>7</td>\n",
       "      <td>225</td>\n",
       "      <td>386</td>\n",
       "      <td>2020-04-12 00:00:00</td>\n",
       "      <td>2020-04-12</td>\n",
       "    </tr>\n",
       "    <tr>\n",
       "      <th>32</th>\n",
       "      <td>33</td>\n",
       "      <td>Ñuble</td>\n",
       "      <td>622</td>\n",
       "      <td>8</td>\n",
       "      <td>271</td>\n",
       "      <td>343</td>\n",
       "      <td>2020-04-13 00:00:00</td>\n",
       "      <td>2020-04-13</td>\n",
       "    </tr>\n",
       "  </tbody>\n",
       "</table>\n",
       "</div>"
      ],
      "text/plain": [
       "    Unnamed: 0 Region  Contagiados  Muertes  Recuperados  Infectados_Actuales  \\\n",
       "8            9  Ñuble           57        0            0                   57   \n",
       "9           10  Ñuble           66        0            0                   66   \n",
       "10          11  Ñuble           93        0            0                   93   \n",
       "11          12  Ñuble          107        0            0                  107   \n",
       "12          13  Ñuble          112        0            0                  112   \n",
       "13          14  Ñuble          120        0            0                  120   \n",
       "14          15  Ñuble          150        0            1                  149   \n",
       "15          16  Ñuble          184        0            3                  181   \n",
       "16          17  Ñuble          199        0            4                  195   \n",
       "17          18  Ñuble          232        0           10                  222   \n",
       "18          19  Ñuble          279        0           14                  265   \n",
       "19          20  Ñuble          319        0           26                  293   \n",
       "20          21  Ñuble          359        0           28                  331   \n",
       "21          22  Ñuble          380        0           47                  333   \n",
       "22          23  Ñuble          415        1           56                  358   \n",
       "23          24  Ñuble          468        2           64                  402   \n",
       "24          25  Ñuble          513        3           90                  420   \n",
       "25          26  Ñuble          545        4          103                  438   \n",
       "26          27  Ñuble          568        5          107                  456   \n",
       "27          28  Ñuble          578        5          115                  458   \n",
       "28          29  Ñuble          588        6          144                  438   \n",
       "29          30  Ñuble          606        6          178                  422   \n",
       "30          31  Ñuble          613        7          192                  414   \n",
       "31          32  Ñuble          618        7          225                  386   \n",
       "32          33  Ñuble          622        8          271                  343   \n",
       "\n",
       "                  Fecha   Fecha_dt  \n",
       "8             3/20/2020 2020-03-20  \n",
       "9             3/21/2020 2020-03-21  \n",
       "10            3/22/2020 2020-03-22  \n",
       "11            3/23/2020 2020-03-23  \n",
       "12            3/24/2020 2020-03-24  \n",
       "13            3/25/2020 2020-03-25  \n",
       "14            3/26/2020 2020-03-26  \n",
       "15            3/27/2020 2020-03-27  \n",
       "16            3/28/2020 2020-03-28  \n",
       "17            3/29/2020 2020-03-29  \n",
       "18            3/30/2020 2020-03-30  \n",
       "19            3/31/2020 2020-03-31  \n",
       "20             4/1/2020 2020-04-01  \n",
       "21             4/2/2020 2020-04-02  \n",
       "22             4/3/2020 2020-04-03  \n",
       "23             4/4/2020 2020-04-04  \n",
       "24             4/5/2020 2020-04-05  \n",
       "25             4/6/2020 2020-04-06  \n",
       "26             4/7/2020 2020-04-07  \n",
       "27             4/8/2020 2020-04-08  \n",
       "28             4/9/2020 2020-04-09  \n",
       "29  2020-04-10 00:00:00 2020-04-10  \n",
       "30  2020-04-11 00:00:00 2020-04-11  \n",
       "31  2020-04-12 00:00:00 2020-04-12  \n",
       "32  2020-04-13 00:00:00 2020-04-13  "
      ]
     },
     "execution_count": 3,
     "metadata": {},
     "output_type": "execute_result"
    }
   ],
   "source": [
    "df"
   ]
  },
  {
   "cell_type": "code",
   "execution_count": 26,
   "metadata": {},
   "outputs": [],
   "source": [
    "i_cuar = 10\n",
    "i_cuar = 14\n",
    "\n",
    "t_data = np.arange(len(df.Infectados_Actuales))\n",
    "C_real = df.Contagiados.values\n",
    "I_real = df.Infectados_Actuales.values\n",
    "R_real = df.Recuperados.values + df.Muertes.values\n",
    "\n"
   ]
  },
  {
   "cell_type": "code",
   "execution_count": 27,
   "metadata": {},
   "outputs": [
    {
     "data": {
      "text/plain": [
       "[<matplotlib.lines.Line2D at 0x1a1e998b70>]"
      ]
     },
     "execution_count": 27,
     "metadata": {},
     "output_type": "execute_result"
    },
    {
     "data": {
      "image/png": "[encoded data removed]",
      "text/plain": [
       "<Figure size 432x288 with 1 Axes>"
      ]
     },
     "metadata": {
      "needs_background": "light"
     },
     "output_type": "display_data"
    }
   ],
   "source": [
    "plt.plot(t_data[:i_cuar+1], C_real [:i_cuar+1], marker = \"x\")\n",
    "plt.plot(t_data[i_cuar:], C_real [i_cuar:], marker = \"+\")\n"
   ]
  },
  {
   "cell_type": "code",
   "execution_count": 28,
   "metadata": {},
   "outputs": [],
   "source": [
    "pop = 511551\n",
    "\n",
    "# Ajuste a primeros días\n",
    "r0 =  19 \n",
    "e0 =  22 \n",
    "i0 =  31\n",
    "\n",
    "s0 = pop - i0 - r0 - e0\n",
    "c0 = C_real[0]\n"
   ]
  },
  {
   "cell_type": "markdown",
   "metadata": {},
   "source": [
    "4.895477023965976e-07\n",
    "0.6871168953272974 \n",
    "0.05555556343557843 \n",
    "56.08000441355646 \n",
    "0.09999472332437251 \n",
    "0.3856258452621279"
   ]
  },
  {
   "cell_type": "code",
   "execution_count": 29,
   "metadata": {},
   "outputs": [
    {
     "name": "stdout",
     "output_type": "stream",
     "text": [
      "{'b0': [4e-07, 5e-07, 7e-07], 'b1': [7e-15, 8e-15, 9e-15, 1e-14, 2e-14, 3e-14]}\n",
      "betas =  [4.e-07 7.e-15] 23.88540506362915\n",
      "  min: RMSE =  54.54546441249288 ; b, s, g =  [array([4.e-07, 7.e-15]), 1.0, 0.0625] ; a_d, k, a =  [20.0, 0.01, 1.0] ; ( 1.0 ,  16.0 )\n",
      "betas =  [4.e-07 8.e-15] 35.63375687599182\n",
      "  min: RMSE =  54.5391322163047 ; b, s, g =  [array([4.e-07, 8.e-15]), 1.0, 0.0625] ; a_d, k, a =  [20.0, 0.01, 1.0] ; ( 1.0 ,  16.0 )\n",
      "betas =  [4.e-07 9.e-15] 35.617844104766846\n",
      "  min: RMSE =  54.5391322163047 ; b, s, g =  [array([4.e-07, 8.e-15]), 1.0, 0.0625] ; a_d, k, a =  [20.0, 0.01, 1.0] ; ( 1.0 ,  16.0 )\n",
      "betas =  [4.e-07 1.e-14] 23.166414737701416\n",
      "  min: RMSE =  54.5391322163047 ; b, s, g =  [array([4.e-07, 8.e-15]), 1.0, 0.0625] ; a_d, k, a =  [20.0, 0.01, 1.0] ; ( 1.0 ,  16.0 )\n",
      "betas =  [4.e-07 2.e-14] 33.846271991729736\n",
      "  min: RMSE =  54.5391322163047 ; b, s, g =  [array([4.e-07, 8.e-15]), 1.0, 0.0625] ; a_d, k, a =  [20.0, 0.01, 1.0] ; ( 1.0 ,  16.0 )\n",
      "betas =  [4.e-07 3.e-14] 35.99769425392151\n",
      "  min: RMSE =  54.5391322163047 ; b, s, g =  [array([4.e-07, 8.e-15]), 1.0, 0.0625] ; a_d, k, a =  [20.0, 0.01, 1.0] ; ( 1.0 ,  16.0 )\n",
      "betas =  [5.e-07 7.e-15] 25.560893058776855\n",
      "  min: RMSE =  16.276473120890596 ; b, s, g =  [array([5.e-07, 7.e-15]), 0.5, 0.0625] ; a_d, k, a =  [65.0, 0.31622776601683794, 0.5] ; ( 2.0 ,  16.0 )\n",
      "betas =  [5.e-07 8.e-15] 23.002503871917725\n",
      "  min: RMSE =  16.272171624377272 ; b, s, g =  [array([5.e-07, 8.e-15]), 0.5, 0.0625] ; a_d, k, a =  [65.0, 0.31622776601683794, 0.5] ; ( 2.0 ,  16.0 )\n",
      "betas =  [5.e-07 9.e-15] 22.698864936828613\n",
      "  min: RMSE =  16.272171624377272 ; b, s, g =  [array([5.e-07, 8.e-15]), 0.5, 0.0625] ; a_d, k, a =  [65.0, 0.31622776601683794, 0.5] ; ( 2.0 ,  16.0 )\n",
      "betas =  [5.e-07 1.e-14] 22.653334856033325\n",
      "  min: RMSE =  16.272171624377272 ; b, s, g =  [array([5.e-07, 8.e-15]), 0.5, 0.0625] ; a_d, k, a =  [65.0, 0.31622776601683794, 0.5] ; ( 2.0 ,  16.0 )\n",
      "betas =  [5.e-07 2.e-14] 23.29780101776123\n",
      "  min: RMSE =  16.272171624377272 ; b, s, g =  [array([5.e-07, 8.e-15]), 0.5, 0.0625] ; a_d, k, a =  [65.0, 0.31622776601683794, 0.5] ; ( 2.0 ,  16.0 )\n",
      "betas =  [5.e-07 3.e-14] 32.22383999824524\n",
      "  min: RMSE =  16.272171624377272 ; b, s, g =  [array([5.e-07, 8.e-15]), 0.5, 0.0625] ; a_d, k, a =  [65.0, 0.31622776601683794, 0.5] ; ( 2.0 ,  16.0 )\n",
      "betas =  [7.e-07 7.e-15] 22.446564197540283\n",
      "  min: RMSE =  8.486392157832379 ; b, s, g =  [array([7.e-07, 7.e-15]), 0.5, 0.125] ; a_d, k, a =  [50.0, 0.1, 0.4] ; ( 2.0 ,  8.0 )\n",
      "betas =  [7.e-07 8.e-15] 22.6479811668396\n",
      "  min: RMSE =  8.486392157832379 ; b, s, g =  [array([7.e-07, 7.e-15]), 0.5, 0.125] ; a_d, k, a =  [50.0, 0.1, 0.4] ; ( 2.0 ,  8.0 )\n",
      "betas =  [7.e-07 9.e-15] 22.505213022232056\n",
      "  min: RMSE =  8.486357012575553 ; b, s, g =  [array([7.e-07, 9.e-15]), 0.5, 0.125] ; a_d, k, a =  [50.0, 0.1, 0.4] ; ( 2.0 ,  8.0 )\n",
      "betas =  [7.e-07 1.e-14] 26.321617126464844\n",
      "  min: RMSE =  8.486029477192394 ; b, s, g =  [array([7.e-07, 1.e-14]), 0.5, 0.125] ; a_d, k, a =  [50.0, 0.1, 0.4] ; ( 2.0 ,  8.0 )\n",
      "betas =  [7.e-07 2.e-14] 65.36277294158936\n",
      "  min: RMSE =  8.486029477192394 ; b, s, g =  [array([7.e-07, 1.e-14]), 0.5, 0.125] ; a_d, k, a =  [50.0, 0.1, 0.4] ; ( 2.0 ,  8.0 )\n",
      "betas =  [7.e-07 3.e-14] 38.148566007614136\n",
      "  min: RMSE =  8.486029477192394 ; b, s, g =  [array([7.e-07, 1.e-14]), 0.5, 0.125] ; a_d, k, a =  [50.0, 0.1, 0.4] ; ( 2.0 ,  8.0 )\n"
     ]
    }
   ],
   "source": [
    "min_ = GridSearchSEIR_exams_measures (t_data, s0, e0, i0, r0, c0, c0, C_real, i_dates_betas = [i_cuar],\n",
    "                                      transmission_coeffs = [[4e-7, 5e-7, 7e-7], [7e-15, 8e-15, 9e-15, 1e-14, 2e-14, 3e-14]], # 1 / day person                                                              \n",
    "                                      latency_time = np.arange(1., 7., 1.), # days                                                                                                               \n",
    "                                      infectious_time = np.arange(6., 18, 2.), # days                                                                                                            \n",
    "                                      ks = 10**np.linspace(-2, 0, 5),\n",
    "                                      a_dates = np.linspace (20, 80, 5),\n",
    "                                      a_s = np.linspace(0.0, 1., 11), backward = True)\n"
   ]
  },
  {
   "cell_type": "code",
   "execution_count": 30,
   "metadata": {},
   "outputs": [
    {
     "name": "stdout",
     "output_type": "stream",
     "text": [
      "[8.486029477192394, array([7.e-07, 1.e-14]), 0.5, 0.125, 50.0, 0.1, 0.4] 2.0 8.0\n"
     ]
    }
   ],
   "source": [
    "RMSE, betas_g, sigma_g, gamma_g, a_date_g, k_g, a_g = min_\n",
    "print (min_, 1./sigma_g, 1/gamma_g)"
   ]
  },
  {
   "cell_type": "code",
   "execution_count": 31,
   "metadata": {},
   "outputs": [],
   "source": [
    "ts = np.arange (0, 100, 1)\n",
    "i_ini = len(i_data) - len(I_real)\n",
    "x_plot_data = np.array([df[\"Fecha_dt\"].iloc[0] + datetime.timedelta(days=i) for i in t_data.astype(float)])\n",
    "\n",
    "x_plot_proy = np.array([df[\"Fecha_dt\"].iloc[0] + datetime.timedelta(days=i) for i in np.arange(len(ts), dtype = float)])"
   ]
  },
  {
   "cell_type": "code",
   "execution_count": 32,
   "metadata": {},
   "outputs": [
    {
     "data": {
      "text/plain": [
       "<matplotlib.legend.Legend at 0x1a1eadce80>"
      ]
     },
     "execution_count": 32,
     "metadata": {},
     "output_type": "execute_result"
    },
    {
     "data": {
      "image/png": "[encoded data removed]",
      "text/plain": [
       "<Figure size 432x288 with 1 Axes>"
      ]
     },
     "metadata": {
      "needs_background": "light"
     },
     "output_type": "display_data"
    }
   ],
   "source": [
    "\n",
    "S_c_g, E_c_g, I_c_g, R_c_g, C_c_g, C_m_g = SEIR_exams_measures_backward(ts, s0, e0, i0, r0, c0, c0, \n",
    "                                                            [i_cuar], betas_g, sigma_g, gamma_g, \n",
    "                                                            a_date_g, k_g, a_g)\n",
    "\n",
    "plt.plot (t_data, C_real, label = \"data\", marker = \"s\")\n",
    "plt.plot (ts, C_c_g, label = \"C real\")\n",
    "plt.plot (ts, I_c_g, label = \"I real\")\n",
    "plt.plot (ts, C_m_g, label = \"C measured\")\n",
    "plt.plot ()\n",
    "plt.xlim(-5, 40)\n",
    "plt.legend()\n"
   ]
  },
  {
   "cell_type": "code",
   "execution_count": 33,
   "metadata": {},
   "outputs": [
    {
     "data": {
      "text/plain": [
       "<matplotlib.legend.Legend at 0x1a1eb3d0b8>"
      ]
     },
     "execution_count": 33,
     "metadata": {},
     "output_type": "execute_result"
    },
    {
     "data": {
      "image/png": "[encoded data removed]",
      "text/plain": [
       "<Figure size 432x288 with 1 Axes>"
      ]
     },
     "metadata": {
      "needs_background": "light"
     },
     "output_type": "display_data"
    }
   ],
   "source": [
    "ts = np.arange (0, 100, 1)\n",
    "S_c_g, E_c_g, I_c_g, R_c_g, C_c_g, C_m_g = SEIR_exams_measures_backward(ts, s0, e0, i0, r0, c0, c0, \n",
    "                                                            [i_cuar], betas_g, sigma_g, gamma_g, \n",
    "                                                            a_date_g, k_g, a_g)\n",
    "\n",
    "plt.plot (x_plot_data, C_real, label = \"data\", marker = \"s\")\n",
    "plt.plot (x_plot_proy, C_c_g, label = \"C real\")\n",
    "plt.plot (x_plot_proy, C_m_g, label = \"C measured\")\n",
    "plt.plot (x_plot_proy, I_c_g, label = \"I real\")\n",
    "plt.plot ()\n",
    "plt.xlim (x_plot_proy[0], x_plot_proy[40])\n",
    "plt.xticks(rotation = 90)\n",
    "plt.ylabel (\"Número de Casos\")\n",
    "plt.title (\"Proyección Ñuble\")\n",
    "plt.legend()"
   ]
  },
  {
   "cell_type": "code",
   "execution_count": 34,
   "metadata": {},
   "outputs": [
    {
     "name": "stdout",
     "output_type": "stream",
     "text": [
      "8.486029477192394\n"
     ]
    }
   ],
   "source": [
    "print (np.sqrt(((C_real-C_m_g[:len(C_real)])**2).mean()))"
   ]
  },
  {
   "cell_type": "code",
   "execution_count": 35,
   "metadata": {},
   "outputs": [
    {
     "data": {
      "text/plain": [
       "<matplotlib.collections.PathCollection at 0x1a1ecc0588>"
      ]
     },
     "execution_count": 35,
     "metadata": {},
     "output_type": "execute_result"
    },
    {
     "data": {
      "image/png": "[encoded data removed]",
      "text/plain": [
       "<Figure size 432x288 with 1 Axes>"
      ]
     },
     "metadata": {
      "needs_background": "light"
     },
     "output_type": "display_data"
    }
   ],
   "source": [
    "dC_c_g = C_c_g [1:16] - C_c_g[:15]\n",
    "dC_m_g = C_m_g [1:16] - C_m_g[:15]\n",
    "a__ = dC_m_g/dC_c_g\n",
    "alphas = 1 + (a_g-1)/(1+np.exp(-k_g*(dC_c_g-a_date_g)))\n",
    "plt.plot (dC_c_g, alphas)\n",
    "\n",
    "plt.scatter (dC_c_g, a__)"
   ]
  },
  {
   "cell_type": "code",
   "execution_count": 39,
   "metadata": {},
   "outputs": [
    {
     "name": "stdout",
     "output_type": "stream",
     "text": [
      "[7.e-07 1.e-14]\n"
     ]
    }
   ],
   "source": [
    "print(betas_g)\n",
    "betas_g2 =np.array([7.e-7, 1.e-14, 7.e-7])"
   ]
  },
  {
   "cell_type": "code",
   "execution_count": 40,
   "metadata": {},
   "outputs": [],
   "source": [
    "S_c_g2, E_c_g2, I_c_g2, R_c_g2, C_c_g2, C_m_g2 = SEIR_exams_measures_backward(ts, s0, e0, i0, r0, c0, c0, \n",
    "                                                            [i_cuar, 30], betas_g2, sigma_g, gamma_g, \n",
    "                                                            a_date_g, k_g, a_g)"
   ]
  },
  {
   "cell_type": "code",
   "execution_count": 45,
   "metadata": {},
   "outputs": [
    {
     "data": {
      "text/plain": [
       "<matplotlib.legend.Legend at 0x1a1f17abe0>"
      ]
     },
     "execution_count": 45,
     "metadata": {},
     "output_type": "execute_result"
    },
    {
     "data": {
      "image/png": "[encoded data removed]",
      "text/plain": [
       "<Figure size 432x288 with 1 Axes>"
      ]
     },
     "metadata": {
      "needs_background": "light"
     },
     "output_type": "display_data"
    }
   ],
   "source": [
    "plt.plot (x_plot_data, C_real, label = \"data\", marker = \"s\")\n",
    "plt.plot (x_plot_proy, C_c_g2, label = \"C real\")\n",
    "plt.plot (x_plot_proy, C_m_g2, label = \"C measured\")\n",
    "plt.plot (x_plot_proy, I_c_g2, label = \"I real\")\n",
    "plt.plot ()\n",
    "plt.xlim (x_plot_proy[0], x_plot_proy[50])\n",
    "plt.ylim (-5, 1000)\n",
    "plt.xticks(rotation = 90)\n",
    "plt.ylabel (\"Número de Casos\")\n",
    "plt.title (\"Proyección Ñuble\")\n",
    "plt.legend()"
   ]
  },
  {
   "cell_type": "code",
   "execution_count": null,
   "metadata": {},
   "outputs": [],
   "source": []
  }
 ],
 "metadata": {
  "kernelspec": {
   "display_name": "Python 3",
   "language": "python",
   "name": "python3"
  },
  "language_info": {
   "codemirror_mode": {
    "name": "ipython",
    "version": 3
   },
   "file_extension": ".py",
   "mimetype": "text/x-python",
   "name": "python",
   "nbconvert_exporter": "python",
   "pygments_lexer": "ipython3",
   "version": "3.7.3"
  }
 },
 "nbformat": 4,
 "nbformat_minor": 2
}
