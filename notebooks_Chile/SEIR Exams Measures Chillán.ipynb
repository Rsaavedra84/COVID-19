{
 "cells": [
  {
   "cell_type": "code",
   "execution_count": 1,
   "metadata": {},
   "outputs": [],
   "source": [
    "import matplotlib.pyplot as plt\n",
    "from scipy.optimize import curve_fit\n",
    "import numpy as np\n",
    "import pandas as pd\n",
    "import datetime\n",
    "\n",
    "import sys\n",
    "sys.path.insert(1, '../src/')\n",
    "\n",
    "from SEIR_exams_measures import *\n"
   ]
  },
  {
   "cell_type": "markdown",
   "metadata": {},
   "source": [
    "# Read and plot data"
   ]
  },
  {
   "cell_type": "code",
   "execution_count": 146,
   "metadata": {},
   "outputs": [],
   "source": [
    "df = pd.read_csv (\"../data/chillan.csv\")\n",
    "df[\"Contagiados\"] = df.CASO.cumsum()"
   ]
  },
  {
   "cell_type": "code",
   "execution_count": 147,
   "metadata": {},
   "outputs": [
    {
     "data": {
      "text/html": [
       "<div>\n",
       "<style scoped>\n",
       "    .dataframe tbody tr th:only-of-type {\n",
       "        vertical-align: middle;\n",
       "    }\n",
       "\n",
       "    .dataframe tbody tr th {\n",
       "        vertical-align: top;\n",
       "    }\n",
       "\n",
       "    .dataframe thead th {\n",
       "        text-align: right;\n",
       "    }\n",
       "</style>\n",
       "<table border=\"1\" class=\"dataframe\">\n",
       "  <thead>\n",
       "    <tr style=\"text-align: right;\">\n",
       "      <th></th>\n",
       "      <th>FechaFormat</th>\n",
       "      <th>CASO</th>\n",
       "      <th>Contagiados</th>\n",
       "    </tr>\n",
       "  </thead>\n",
       "  <tbody>\n",
       "    <tr>\n",
       "      <th>0</th>\n",
       "      <td>2020-03-11</td>\n",
       "      <td>1</td>\n",
       "      <td>1</td>\n",
       "    </tr>\n",
       "    <tr>\n",
       "      <th>1</th>\n",
       "      <td>2020-03-13</td>\n",
       "      <td>2</td>\n",
       "      <td>3</td>\n",
       "    </tr>\n",
       "    <tr>\n",
       "      <th>2</th>\n",
       "      <td>2020-03-14</td>\n",
       "      <td>2</td>\n",
       "      <td>5</td>\n",
       "    </tr>\n",
       "    <tr>\n",
       "      <th>3</th>\n",
       "      <td>2020-03-15</td>\n",
       "      <td>5</td>\n",
       "      <td>10</td>\n",
       "    </tr>\n",
       "    <tr>\n",
       "      <th>4</th>\n",
       "      <td>2020-03-16</td>\n",
       "      <td>4</td>\n",
       "      <td>14</td>\n",
       "    </tr>\n",
       "    <tr>\n",
       "      <th>5</th>\n",
       "      <td>2020-03-17</td>\n",
       "      <td>12</td>\n",
       "      <td>26</td>\n",
       "    </tr>\n",
       "    <tr>\n",
       "      <th>6</th>\n",
       "      <td>2020-03-18</td>\n",
       "      <td>2</td>\n",
       "      <td>28</td>\n",
       "    </tr>\n",
       "    <tr>\n",
       "      <th>7</th>\n",
       "      <td>2020-03-19</td>\n",
       "      <td>13</td>\n",
       "      <td>41</td>\n",
       "    </tr>\n",
       "    <tr>\n",
       "      <th>8</th>\n",
       "      <td>2020-03-20</td>\n",
       "      <td>9</td>\n",
       "      <td>50</td>\n",
       "    </tr>\n",
       "    <tr>\n",
       "      <th>9</th>\n",
       "      <td>2020-03-21</td>\n",
       "      <td>6</td>\n",
       "      <td>56</td>\n",
       "    </tr>\n",
       "    <tr>\n",
       "      <th>10</th>\n",
       "      <td>2020-03-22</td>\n",
       "      <td>24</td>\n",
       "      <td>80</td>\n",
       "    </tr>\n",
       "    <tr>\n",
       "      <th>11</th>\n",
       "      <td>2020-03-23</td>\n",
       "      <td>9</td>\n",
       "      <td>89</td>\n",
       "    </tr>\n",
       "    <tr>\n",
       "      <th>12</th>\n",
       "      <td>2020-03-24</td>\n",
       "      <td>4</td>\n",
       "      <td>93</td>\n",
       "    </tr>\n",
       "    <tr>\n",
       "      <th>13</th>\n",
       "      <td>2020-03-25</td>\n",
       "      <td>5</td>\n",
       "      <td>98</td>\n",
       "    </tr>\n",
       "    <tr>\n",
       "      <th>14</th>\n",
       "      <td>2020-03-26</td>\n",
       "      <td>18</td>\n",
       "      <td>116</td>\n",
       "    </tr>\n",
       "    <tr>\n",
       "      <th>15</th>\n",
       "      <td>2020-03-27</td>\n",
       "      <td>24</td>\n",
       "      <td>140</td>\n",
       "    </tr>\n",
       "    <tr>\n",
       "      <th>16</th>\n",
       "      <td>2020-03-28</td>\n",
       "      <td>14</td>\n",
       "      <td>154</td>\n",
       "    </tr>\n",
       "    <tr>\n",
       "      <th>17</th>\n",
       "      <td>2020-03-29</td>\n",
       "      <td>28</td>\n",
       "      <td>182</td>\n",
       "    </tr>\n",
       "    <tr>\n",
       "      <th>18</th>\n",
       "      <td>2020-03-30</td>\n",
       "      <td>28</td>\n",
       "      <td>210</td>\n",
       "    </tr>\n",
       "    <tr>\n",
       "      <th>19</th>\n",
       "      <td>2020-03-31</td>\n",
       "      <td>25</td>\n",
       "      <td>235</td>\n",
       "    </tr>\n",
       "    <tr>\n",
       "      <th>20</th>\n",
       "      <td>2020-04-01</td>\n",
       "      <td>26</td>\n",
       "      <td>261</td>\n",
       "    </tr>\n",
       "    <tr>\n",
       "      <th>21</th>\n",
       "      <td>2020-04-02</td>\n",
       "      <td>13</td>\n",
       "      <td>274</td>\n",
       "    </tr>\n",
       "    <tr>\n",
       "      <th>22</th>\n",
       "      <td>2020-04-03</td>\n",
       "      <td>18</td>\n",
       "      <td>292</td>\n",
       "    </tr>\n",
       "    <tr>\n",
       "      <th>23</th>\n",
       "      <td>2020-04-04</td>\n",
       "      <td>24</td>\n",
       "      <td>316</td>\n",
       "    </tr>\n",
       "    <tr>\n",
       "      <th>24</th>\n",
       "      <td>2020-04-05</td>\n",
       "      <td>22</td>\n",
       "      <td>338</td>\n",
       "    </tr>\n",
       "    <tr>\n",
       "      <th>25</th>\n",
       "      <td>2020-04-06</td>\n",
       "      <td>21</td>\n",
       "      <td>359</td>\n",
       "    </tr>\n",
       "    <tr>\n",
       "      <th>26</th>\n",
       "      <td>2020-04-07</td>\n",
       "      <td>8</td>\n",
       "      <td>367</td>\n",
       "    </tr>\n",
       "    <tr>\n",
       "      <th>27</th>\n",
       "      <td>2020-04-08</td>\n",
       "      <td>8</td>\n",
       "      <td>375</td>\n",
       "    </tr>\n",
       "    <tr>\n",
       "      <th>28</th>\n",
       "      <td>2020-04-09</td>\n",
       "      <td>12</td>\n",
       "      <td>387</td>\n",
       "    </tr>\n",
       "    <tr>\n",
       "      <th>29</th>\n",
       "      <td>2020-04-10</td>\n",
       "      <td>9</td>\n",
       "      <td>396</td>\n",
       "    </tr>\n",
       "    <tr>\n",
       "      <th>30</th>\n",
       "      <td>2020-04-11</td>\n",
       "      <td>3</td>\n",
       "      <td>399</td>\n",
       "    </tr>\n",
       "    <tr>\n",
       "      <th>31</th>\n",
       "      <td>2020-04-12</td>\n",
       "      <td>3</td>\n",
       "      <td>402</td>\n",
       "    </tr>\n",
       "    <tr>\n",
       "      <th>32</th>\n",
       "      <td>2020-04-13</td>\n",
       "      <td>6</td>\n",
       "      <td>408</td>\n",
       "    </tr>\n",
       "    <tr>\n",
       "      <th>33</th>\n",
       "      <td>2020-04-14</td>\n",
       "      <td>3</td>\n",
       "      <td>411</td>\n",
       "    </tr>\n",
       "    <tr>\n",
       "      <th>34</th>\n",
       "      <td>2020-04-15</td>\n",
       "      <td>6</td>\n",
       "      <td>417</td>\n",
       "    </tr>\n",
       "    <tr>\n",
       "      <th>35</th>\n",
       "      <td>2020-04-16</td>\n",
       "      <td>3</td>\n",
       "      <td>420</td>\n",
       "    </tr>\n",
       "    <tr>\n",
       "      <th>36</th>\n",
       "      <td>2020-04-17</td>\n",
       "      <td>5</td>\n",
       "      <td>425</td>\n",
       "    </tr>\n",
       "  </tbody>\n",
       "</table>\n",
       "</div>"
      ],
      "text/plain": [
       "   FechaFormat  CASO  Contagiados\n",
       "0   2020-03-11     1            1\n",
       "1   2020-03-13     2            3\n",
       "2   2020-03-14     2            5\n",
       "3   2020-03-15     5           10\n",
       "4   2020-03-16     4           14\n",
       "5   2020-03-17    12           26\n",
       "6   2020-03-18     2           28\n",
       "7   2020-03-19    13           41\n",
       "8   2020-03-20     9           50\n",
       "9   2020-03-21     6           56\n",
       "10  2020-03-22    24           80\n",
       "11  2020-03-23     9           89\n",
       "12  2020-03-24     4           93\n",
       "13  2020-03-25     5           98\n",
       "14  2020-03-26    18          116\n",
       "15  2020-03-27    24          140\n",
       "16  2020-03-28    14          154\n",
       "17  2020-03-29    28          182\n",
       "18  2020-03-30    28          210\n",
       "19  2020-03-31    25          235\n",
       "20  2020-04-01    26          261\n",
       "21  2020-04-02    13          274\n",
       "22  2020-04-03    18          292\n",
       "23  2020-04-04    24          316\n",
       "24  2020-04-05    22          338\n",
       "25  2020-04-06    21          359\n",
       "26  2020-04-07     8          367\n",
       "27  2020-04-08     8          375\n",
       "28  2020-04-09    12          387\n",
       "29  2020-04-10     9          396\n",
       "30  2020-04-11     3          399\n",
       "31  2020-04-12     3          402\n",
       "32  2020-04-13     6          408\n",
       "33  2020-04-14     3          411\n",
       "34  2020-04-15     6          417\n",
       "35  2020-04-16     3          420\n",
       "36  2020-04-17     5          425"
      ]
     },
     "execution_count": 147,
     "metadata": {},
     "output_type": "execute_result"
    }
   ],
   "source": [
    "df"
   ]
  },
  {
   "cell_type": "code",
   "execution_count": 148,
   "metadata": {},
   "outputs": [],
   "source": [
    "df[\"Fecha_dt\"] = pd.to_datetime (df[\"FechaFormat\"])\n",
    "i_data = df[\"Contagiados\"].values\n",
    "#df = df[df.Contagiados > 50]"
   ]
  },
  {
   "cell_type": "code",
   "execution_count": 149,
   "metadata": {},
   "outputs": [
    {
     "data": {
      "text/html": [
       "<div>\n",
       "<style scoped>\n",
       "    .dataframe tbody tr th:only-of-type {\n",
       "        vertical-align: middle;\n",
       "    }\n",
       "\n",
       "    .dataframe tbody tr th {\n",
       "        vertical-align: top;\n",
       "    }\n",
       "\n",
       "    .dataframe thead th {\n",
       "        text-align: right;\n",
       "    }\n",
       "</style>\n",
       "<table border=\"1\" class=\"dataframe\">\n",
       "  <thead>\n",
       "    <tr style=\"text-align: right;\">\n",
       "      <th></th>\n",
       "      <th>FechaFormat</th>\n",
       "      <th>CASO</th>\n",
       "      <th>Contagiados</th>\n",
       "      <th>Fecha_dt</th>\n",
       "    </tr>\n",
       "  </thead>\n",
       "  <tbody>\n",
       "    <tr>\n",
       "      <th>0</th>\n",
       "      <td>2020-03-11</td>\n",
       "      <td>1</td>\n",
       "      <td>1</td>\n",
       "      <td>2020-03-11</td>\n",
       "    </tr>\n",
       "    <tr>\n",
       "      <th>1</th>\n",
       "      <td>2020-03-13</td>\n",
       "      <td>2</td>\n",
       "      <td>3</td>\n",
       "      <td>2020-03-13</td>\n",
       "    </tr>\n",
       "    <tr>\n",
       "      <th>2</th>\n",
       "      <td>2020-03-14</td>\n",
       "      <td>2</td>\n",
       "      <td>5</td>\n",
       "      <td>2020-03-14</td>\n",
       "    </tr>\n",
       "    <tr>\n",
       "      <th>3</th>\n",
       "      <td>2020-03-15</td>\n",
       "      <td>5</td>\n",
       "      <td>10</td>\n",
       "      <td>2020-03-15</td>\n",
       "    </tr>\n",
       "    <tr>\n",
       "      <th>4</th>\n",
       "      <td>2020-03-16</td>\n",
       "      <td>4</td>\n",
       "      <td>14</td>\n",
       "      <td>2020-03-16</td>\n",
       "    </tr>\n",
       "    <tr>\n",
       "      <th>5</th>\n",
       "      <td>2020-03-17</td>\n",
       "      <td>12</td>\n",
       "      <td>26</td>\n",
       "      <td>2020-03-17</td>\n",
       "    </tr>\n",
       "    <tr>\n",
       "      <th>6</th>\n",
       "      <td>2020-03-18</td>\n",
       "      <td>2</td>\n",
       "      <td>28</td>\n",
       "      <td>2020-03-18</td>\n",
       "    </tr>\n",
       "    <tr>\n",
       "      <th>7</th>\n",
       "      <td>2020-03-19</td>\n",
       "      <td>13</td>\n",
       "      <td>41</td>\n",
       "      <td>2020-03-19</td>\n",
       "    </tr>\n",
       "    <tr>\n",
       "      <th>8</th>\n",
       "      <td>2020-03-20</td>\n",
       "      <td>9</td>\n",
       "      <td>50</td>\n",
       "      <td>2020-03-20</td>\n",
       "    </tr>\n",
       "    <tr>\n",
       "      <th>9</th>\n",
       "      <td>2020-03-21</td>\n",
       "      <td>6</td>\n",
       "      <td>56</td>\n",
       "      <td>2020-03-21</td>\n",
       "    </tr>\n",
       "    <tr>\n",
       "      <th>10</th>\n",
       "      <td>2020-03-22</td>\n",
       "      <td>24</td>\n",
       "      <td>80</td>\n",
       "      <td>2020-03-22</td>\n",
       "    </tr>\n",
       "    <tr>\n",
       "      <th>11</th>\n",
       "      <td>2020-03-23</td>\n",
       "      <td>9</td>\n",
       "      <td>89</td>\n",
       "      <td>2020-03-23</td>\n",
       "    </tr>\n",
       "    <tr>\n",
       "      <th>12</th>\n",
       "      <td>2020-03-24</td>\n",
       "      <td>4</td>\n",
       "      <td>93</td>\n",
       "      <td>2020-03-24</td>\n",
       "    </tr>\n",
       "    <tr>\n",
       "      <th>13</th>\n",
       "      <td>2020-03-25</td>\n",
       "      <td>5</td>\n",
       "      <td>98</td>\n",
       "      <td>2020-03-25</td>\n",
       "    </tr>\n",
       "    <tr>\n",
       "      <th>14</th>\n",
       "      <td>2020-03-26</td>\n",
       "      <td>18</td>\n",
       "      <td>116</td>\n",
       "      <td>2020-03-26</td>\n",
       "    </tr>\n",
       "    <tr>\n",
       "      <th>15</th>\n",
       "      <td>2020-03-27</td>\n",
       "      <td>24</td>\n",
       "      <td>140</td>\n",
       "      <td>2020-03-27</td>\n",
       "    </tr>\n",
       "    <tr>\n",
       "      <th>16</th>\n",
       "      <td>2020-03-28</td>\n",
       "      <td>14</td>\n",
       "      <td>154</td>\n",
       "      <td>2020-03-28</td>\n",
       "    </tr>\n",
       "    <tr>\n",
       "      <th>17</th>\n",
       "      <td>2020-03-29</td>\n",
       "      <td>28</td>\n",
       "      <td>182</td>\n",
       "      <td>2020-03-29</td>\n",
       "    </tr>\n",
       "    <tr>\n",
       "      <th>18</th>\n",
       "      <td>2020-03-30</td>\n",
       "      <td>28</td>\n",
       "      <td>210</td>\n",
       "      <td>2020-03-30</td>\n",
       "    </tr>\n",
       "    <tr>\n",
       "      <th>19</th>\n",
       "      <td>2020-03-31</td>\n",
       "      <td>25</td>\n",
       "      <td>235</td>\n",
       "      <td>2020-03-31</td>\n",
       "    </tr>\n",
       "    <tr>\n",
       "      <th>20</th>\n",
       "      <td>2020-04-01</td>\n",
       "      <td>26</td>\n",
       "      <td>261</td>\n",
       "      <td>2020-04-01</td>\n",
       "    </tr>\n",
       "    <tr>\n",
       "      <th>21</th>\n",
       "      <td>2020-04-02</td>\n",
       "      <td>13</td>\n",
       "      <td>274</td>\n",
       "      <td>2020-04-02</td>\n",
       "    </tr>\n",
       "    <tr>\n",
       "      <th>22</th>\n",
       "      <td>2020-04-03</td>\n",
       "      <td>18</td>\n",
       "      <td>292</td>\n",
       "      <td>2020-04-03</td>\n",
       "    </tr>\n",
       "    <tr>\n",
       "      <th>23</th>\n",
       "      <td>2020-04-04</td>\n",
       "      <td>24</td>\n",
       "      <td>316</td>\n",
       "      <td>2020-04-04</td>\n",
       "    </tr>\n",
       "    <tr>\n",
       "      <th>24</th>\n",
       "      <td>2020-04-05</td>\n",
       "      <td>22</td>\n",
       "      <td>338</td>\n",
       "      <td>2020-04-05</td>\n",
       "    </tr>\n",
       "    <tr>\n",
       "      <th>25</th>\n",
       "      <td>2020-04-06</td>\n",
       "      <td>21</td>\n",
       "      <td>359</td>\n",
       "      <td>2020-04-06</td>\n",
       "    </tr>\n",
       "    <tr>\n",
       "      <th>26</th>\n",
       "      <td>2020-04-07</td>\n",
       "      <td>8</td>\n",
       "      <td>367</td>\n",
       "      <td>2020-04-07</td>\n",
       "    </tr>\n",
       "    <tr>\n",
       "      <th>27</th>\n",
       "      <td>2020-04-08</td>\n",
       "      <td>8</td>\n",
       "      <td>375</td>\n",
       "      <td>2020-04-08</td>\n",
       "    </tr>\n",
       "    <tr>\n",
       "      <th>28</th>\n",
       "      <td>2020-04-09</td>\n",
       "      <td>12</td>\n",
       "      <td>387</td>\n",
       "      <td>2020-04-09</td>\n",
       "    </tr>\n",
       "    <tr>\n",
       "      <th>29</th>\n",
       "      <td>2020-04-10</td>\n",
       "      <td>9</td>\n",
       "      <td>396</td>\n",
       "      <td>2020-04-10</td>\n",
       "    </tr>\n",
       "    <tr>\n",
       "      <th>30</th>\n",
       "      <td>2020-04-11</td>\n",
       "      <td>3</td>\n",
       "      <td>399</td>\n",
       "      <td>2020-04-11</td>\n",
       "    </tr>\n",
       "    <tr>\n",
       "      <th>31</th>\n",
       "      <td>2020-04-12</td>\n",
       "      <td>3</td>\n",
       "      <td>402</td>\n",
       "      <td>2020-04-12</td>\n",
       "    </tr>\n",
       "    <tr>\n",
       "      <th>32</th>\n",
       "      <td>2020-04-13</td>\n",
       "      <td>6</td>\n",
       "      <td>408</td>\n",
       "      <td>2020-04-13</td>\n",
       "    </tr>\n",
       "    <tr>\n",
       "      <th>33</th>\n",
       "      <td>2020-04-14</td>\n",
       "      <td>3</td>\n",
       "      <td>411</td>\n",
       "      <td>2020-04-14</td>\n",
       "    </tr>\n",
       "    <tr>\n",
       "      <th>34</th>\n",
       "      <td>2020-04-15</td>\n",
       "      <td>6</td>\n",
       "      <td>417</td>\n",
       "      <td>2020-04-15</td>\n",
       "    </tr>\n",
       "    <tr>\n",
       "      <th>35</th>\n",
       "      <td>2020-04-16</td>\n",
       "      <td>3</td>\n",
       "      <td>420</td>\n",
       "      <td>2020-04-16</td>\n",
       "    </tr>\n",
       "    <tr>\n",
       "      <th>36</th>\n",
       "      <td>2020-04-17</td>\n",
       "      <td>5</td>\n",
       "      <td>425</td>\n",
       "      <td>2020-04-17</td>\n",
       "    </tr>\n",
       "  </tbody>\n",
       "</table>\n",
       "</div>"
      ],
      "text/plain": [
       "   FechaFormat  CASO  Contagiados   Fecha_dt\n",
       "0   2020-03-11     1            1 2020-03-11\n",
       "1   2020-03-13     2            3 2020-03-13\n",
       "2   2020-03-14     2            5 2020-03-14\n",
       "3   2020-03-15     5           10 2020-03-15\n",
       "4   2020-03-16     4           14 2020-03-16\n",
       "5   2020-03-17    12           26 2020-03-17\n",
       "6   2020-03-18     2           28 2020-03-18\n",
       "7   2020-03-19    13           41 2020-03-19\n",
       "8   2020-03-20     9           50 2020-03-20\n",
       "9   2020-03-21     6           56 2020-03-21\n",
       "10  2020-03-22    24           80 2020-03-22\n",
       "11  2020-03-23     9           89 2020-03-23\n",
       "12  2020-03-24     4           93 2020-03-24\n",
       "13  2020-03-25     5           98 2020-03-25\n",
       "14  2020-03-26    18          116 2020-03-26\n",
       "15  2020-03-27    24          140 2020-03-27\n",
       "16  2020-03-28    14          154 2020-03-28\n",
       "17  2020-03-29    28          182 2020-03-29\n",
       "18  2020-03-30    28          210 2020-03-30\n",
       "19  2020-03-31    25          235 2020-03-31\n",
       "20  2020-04-01    26          261 2020-04-01\n",
       "21  2020-04-02    13          274 2020-04-02\n",
       "22  2020-04-03    18          292 2020-04-03\n",
       "23  2020-04-04    24          316 2020-04-04\n",
       "24  2020-04-05    22          338 2020-04-05\n",
       "25  2020-04-06    21          359 2020-04-06\n",
       "26  2020-04-07     8          367 2020-04-07\n",
       "27  2020-04-08     8          375 2020-04-08\n",
       "28  2020-04-09    12          387 2020-04-09\n",
       "29  2020-04-10     9          396 2020-04-10\n",
       "30  2020-04-11     3          399 2020-04-11\n",
       "31  2020-04-12     3          402 2020-04-12\n",
       "32  2020-04-13     6          408 2020-04-13\n",
       "33  2020-04-14     3          411 2020-04-14\n",
       "34  2020-04-15     6          417 2020-04-15\n",
       "35  2020-04-16     3          420 2020-04-16\n",
       "36  2020-04-17     5          425 2020-04-17"
      ]
     },
     "execution_count": 149,
     "metadata": {},
     "output_type": "execute_result"
    }
   ],
   "source": [
    "df"
   ]
  },
  {
   "cell_type": "code",
   "execution_count": 150,
   "metadata": {},
   "outputs": [
    {
     "data": {
      "text/plain": [
       "<matplotlib.lines.Line2D at 0x1a2878bb38>"
      ]
     },
     "execution_count": 150,
     "metadata": {},
     "output_type": "execute_result"
    },
    {
     "data": {
      "image/png": "[encoded data removed]",
      "text/plain": [
       "<Figure size 432x288 with 1 Axes>"
      ]
     },
     "metadata": {
      "needs_background": "light"
     },
     "output_type": "display_data"
    }
   ],
   "source": [
    "plt.plot(df.Contagiados)\n",
    "plt.axhline(50)"
   ]
  },
  {
   "cell_type": "markdown",
   "metadata": {},
   "source": [
    "# Fit pre-50 cases"
   ]
  },
  {
   "cell_type": "code",
   "execution_count": 151,
   "metadata": {},
   "outputs": [],
   "source": [
    "from SEIR_exams import *"
   ]
  },
  {
   "cell_type": "code",
   "execution_count": 152,
   "metadata": {},
   "outputs": [
    {
     "name": "stdout",
     "output_type": "stream",
     "text": [
      "  FechaFormat  CASO  Contagiados   Fecha_dt\n",
      "0  2020-03-11     1            1 2020-03-11\n",
      "1  2020-03-13     2            3 2020-03-13\n",
      "2  2020-03-14     2            5 2020-03-14\n",
      "3  2020-03-15     5           10 2020-03-15\n",
      "4  2020-03-16     4           14 2020-03-16\n",
      "5  2020-03-17    12           26 2020-03-17\n",
      "6  2020-03-18     2           28 2020-03-18\n",
      "7  2020-03-19    13           41 2020-03-19\n",
      "8  2020-03-20     9           50 2020-03-20\n",
      "9  2020-03-21     6           56 2020-03-21\n"
     ]
    }
   ],
   "source": [
    "df_pre = df.iloc[:len(df[df.Contagiados <= 50]) + 1]\n",
    "print (df_pre)\n",
    "\n",
    "t_pre = np.arange(len(df_pre))\n",
    "C_pre = df_pre.Contagiados"
   ]
  },
  {
   "cell_type": "code",
   "execution_count": 153,
   "metadata": {},
   "outputs": [],
   "source": [
    "pop = 215646\n",
    "\n",
    "# Ajuste a primeros días\n",
    "# r0 =   \n",
    "# e0 =   \n",
    "# i0 =  \n",
    "\n",
    "i00 = C_pre[0]\n",
    "r00 = 0\n",
    "e00 = 0\n",
    "s00 = pop - i0 - r0 - e0\n",
    "c00 = C_pre[0]\n"
   ]
  },
  {
   "cell_type": "code",
   "execution_count": 187,
   "metadata": {},
   "outputs": [
    {
     "name": "stdout",
     "output_type": "stream",
     "text": [
      "beta =  1e-06 50.23375225067139\n",
      "  min: RMSE =  27.685856574996198 ; b, s, g =  [1e-06, 1.0, 0.034482758620689655] ; a_d, k, a =  [5.0, 0.01, 1.0] ; ( 1.0 ,  29.0 )\n",
      "beta =  3.162277660168379e-06 49.691946029663086\n",
      "  min: RMSE =  4.971092097843014 ; b, s, g =  [3.162277660168379e-06, 1.0, 0.04] ; a_d, k, a =  [20.0, 1.0, 0.2] ; ( 1.0 ,  25.0 )\n",
      "beta =  1e-05 50.015759229660034\n",
      "  min: RMSE =  4.807425913638766 ; b, s, g =  [1e-05, 0.3333333333333333, 0.5] ; a_d, k, a =  [20.0, 1.0, 0.2] ; ( 3.0 ,  2.0 )\n",
      "beta =  3.1622776601683795e-05 49.912034034729004\n",
      "  min: RMSE =  4.807425913638766 ; b, s, g =  [1e-05, 0.3333333333333333, 0.5] ; a_d, k, a =  [20.0, 1.0, 0.2] ; ( 3.0 ,  2.0 )\n"
     ]
    }
   ],
   "source": [
    "RMSE, beta, sigma, gamma, a_date, k, a = GridSearchSEIR_exams (t_pre, s00, e00, i00, r00, c00, c00, C_pre,\n",
    "                          transmission_coeff = 10**np.arange(-6, -4, .5, dtype = float), # 1 / day person\n",
    "                          latency_time = np.arange(1., 14., 1.), # days\n",
    "                          infectious_time = np.arange(1., 30., 1.), # days\n",
    "                          ks = np.array([1e-2, 1e-1, 1.]),\n",
    "#                          a_dates = np.array([100]),\n",
    "#                          a_s = np.array([0.9]))\n",
    "#                          ks = 10**np.linspace(-2, 0, 5),\n",
    "                          a_dates = np.linspace (5, 25, 5),\n",
    "                          a_s = np.linspace(0.2, 1., 8))"
   ]
  },
  {
   "cell_type": "code",
   "execution_count": 188,
   "metadata": {},
   "outputs": [
    {
     "data": {
      "text/plain": [
       "[<matplotlib.lines.Line2D at 0x1a2949df60>]"
      ]
     },
     "execution_count": 188,
     "metadata": {},
     "output_type": "execute_result"
    },
    {
     "data": {
      "image/png": "[encoded data removed]",
      "text/plain": [
       "<Figure size 432x288 with 1 Axes>"
      ]
     },
     "metadata": {
      "needs_background": "light"
     },
     "output_type": "display_data"
    }
   ],
   "source": [
    "alphas = 1 + (a-1)/(1+np.exp(-k*(np.arange(50) - a_date)))\n",
    "\n",
    "plt.plot (alphas)"
   ]
  },
  {
   "cell_type": "code",
   "execution_count": 189,
   "metadata": {},
   "outputs": [
    {
     "data": {
      "text/plain": [
       "[<matplotlib.lines.Line2D at 0x1a298e8358>]"
      ]
     },
     "execution_count": 189,
     "metadata": {},
     "output_type": "execute_result"
    },
    {
     "data": {
      "image/png": "[encoded data removed]",
      "text/plain": [
       "<Figure size 432x288 with 1 Axes>"
      ]
     },
     "metadata": {
      "needs_background": "light"
     },
     "output_type": "display_data"
    }
   ],
   "source": [
    "\n",
    "alphas = 1 + (a-1)/(1+np.exp(-k*(df.CASO - a_date)))\n",
    "\n",
    "plt.plot(alphas)"
   ]
  },
  {
   "cell_type": "code",
   "execution_count": 190,
   "metadata": {},
   "outputs": [],
   "source": [
    "ts = np.arange (0, 100, 1)\n",
    "\n",
    "S_c, E_c, I_c, R_c, C_c, C_m = SEIR_exams (ts, s0, e00, i00, r00, c00, c00, beta, sigma, gamma, a_date, k, a)\n",
    "S_cb, E_cb, I_cb, R_cb, C_cb, C_mb = SEIR_exams_backward (ts, s00, e00, i00, r00, c00, c00, beta, sigma, gamma, a_date, k, a)\n"
   ]
  },
  {
   "cell_type": "code",
   "execution_count": 193,
   "metadata": {},
   "outputs": [
    {
     "name": "stdout",
     "output_type": "stream",
     "text": [
      "135.31125623020446 155.50920728647702 379.06025100607076\n"
     ]
    }
   ],
   "source": [
    "i0 = I_cb [len(C_pre)]\n",
    "r0 = R_cb [len(C_pre)]\n",
    "e0 = E_cb [len(C_pre)]\n",
    "s0 = pop - i0 - r0 - e0\n",
    "c0 = C_cb [len(C_pre)]\n",
    "\n",
    "print (i0, r0, e0)"
   ]
  },
  {
   "cell_type": "code",
   "execution_count": 192,
   "metadata": {
    "scrolled": true
   },
   "outputs": [
    {
     "data": {
      "text/plain": [
       "<matplotlib.legend.Legend at 0x1a29b9af98>"
      ]
     },
     "execution_count": 192,
     "metadata": {},
     "output_type": "execute_result"
    },
    {
     "data": {
      "image/png": "[encoded data removed]",
      "text/plain": [
       "<Figure size 432x288 with 1 Axes>"
      ]
     },
     "metadata": {
      "needs_background": "light"
     },
     "output_type": "display_data"
    }
   ],
   "source": [
    "\n",
    "plt.plot(np.arange(len(df_pre.Contagiados)), df_pre.Contagiados, \"s\")\n",
    "plt.plot(ts, C_cb, label = \"C\")\n",
    "plt.plot(ts, C_mb, label = \"C m b\")\n",
    "plt.plot(ts, I_cb, label = \"I\")\n",
    "plt.plot(ts, R_cb, label = \"R\")\n",
    "\n",
    "plt.xlim(-2, 20)\n",
    "plt.ylim (-5, 100)\n",
    "plt.legend()"
   ]
  },
  {
   "cell_type": "code",
   "execution_count": 180,
   "metadata": {},
   "outputs": [
    {
     "data": {
      "text/plain": [
       "[<matplotlib.lines.Line2D at 0x1a2992d630>]"
      ]
     },
     "execution_count": 180,
     "metadata": {},
     "output_type": "execute_result"
    },
    {
     "data": {
      "image/png": "[encoded data removed]",
      "text/plain": [
       "<Figure size 432x288 with 1 Axes>"
      ]
     },
     "metadata": {
      "needs_background": "light"
     },
     "output_type": "display_data"
    }
   ],
   "source": [
    "plt.plot (df_pre.CASO)"
   ]
  },
  {
   "cell_type": "code",
   "execution_count": null,
   "metadata": {},
   "outputs": [],
   "source": []
  },
  {
   "cell_type": "markdown",
   "metadata": {},
   "source": [
    "# Fit post-50 cases"
   ]
  },
  {
   "cell_type": "code",
   "execution_count": 261,
   "metadata": {},
   "outputs": [
    {
     "name": "stdout",
     "output_type": "stream",
     "text": [
      "18\n",
      "2020-04-08\n",
      "   FechaFormat  CASO  Contagiados   Fecha_dt\n",
      "9   2020-03-21     6           56 2020-03-21\n",
      "10  2020-03-22    24           80 2020-03-22\n",
      "11  2020-03-23     9           89 2020-03-23\n",
      "12  2020-03-24     4           93 2020-03-24\n",
      "13  2020-03-25     5           98 2020-03-25\n",
      "14  2020-03-26    18          116 2020-03-26\n",
      "15  2020-03-27    24          140 2020-03-27\n",
      "16  2020-03-28    14          154 2020-03-28\n",
      "17  2020-03-29    28          182 2020-03-29\n",
      "18  2020-03-30    28          210 2020-03-30\n",
      "19  2020-03-31    25          235 2020-03-31\n",
      "20  2020-04-01    26          261 2020-04-01\n",
      "21  2020-04-02    13          274 2020-04-02\n",
      "22  2020-04-03    18          292 2020-04-03\n",
      "23  2020-04-04    24          316 2020-04-04\n",
      "24  2020-04-05    22          338 2020-04-05\n",
      "25  2020-04-06    21          359 2020-04-06\n",
      "26  2020-04-07     8          367 2020-04-07\n",
      "27  2020-04-08     8          375 2020-04-08\n",
      "28  2020-04-09    12          387 2020-04-09\n",
      "29  2020-04-10     9          396 2020-04-10\n",
      "30  2020-04-11     3          399 2020-04-11\n",
      "31  2020-04-12     3          402 2020-04-12\n",
      "32  2020-04-13     6          408 2020-04-13\n",
      "33  2020-04-14     3          411 2020-04-14\n",
      "34  2020-04-15     6          417 2020-04-15\n",
      "35  2020-04-16     3          420 2020-04-16\n",
      "36  2020-04-17     5          425 2020-04-17\n"
     ]
    }
   ],
   "source": [
    "df = df[df.Contagiados > 50]\n",
    "print (df.index[df.FechaFormat == \"2020-03-30\"][0])\n",
    "print (df.FechaFormat.values[18])\n",
    "print (df)"
   ]
  },
  {
   "cell_type": "code",
   "execution_count": 321,
   "metadata": {},
   "outputs": [
    {
     "name": "stdout",
     "output_type": "stream",
     "text": [
      "[9]\n",
      "[ 56  80  89  93  98 116 140 154 182 210 235 261 274 292 316 338 359 367\n",
      " 375 387 396 399 402 408 411 417 420 425]\n"
     ]
    }
   ],
   "source": [
    "i_cuar = [df.index[df.FechaFormat == \"2020-03-23\"][0],\n",
    "          df.index[df.FechaFormat == \"2020-03-30\"][0]]\n",
    "i_cuar = [df.index[df.FechaFormat == \"2020-03-30\"][0] - df.index[0]]\n",
    "print (i_cuar)\n",
    "#i_cuar += 2\n",
    "#i_cuar = 14\n",
    "\n",
    "#df = df[i_cuar:]\n",
    "\n",
    "t_data = np.arange(len(df.Contagiados))\n",
    "C_real = df.Contagiados.values\n",
    "print (C_real)\n"
   ]
  },
  {
   "cell_type": "code",
   "execution_count": 322,
   "metadata": {},
   "outputs": [
    {
     "name": "stdout",
     "output_type": "stream",
     "text": [
      "0 9\n",
      "9 28\n"
     ]
    },
    {
     "data": {
      "text/plain": [
       "<matplotlib.lines.Line2D at 0x1a2c9dbe48>"
      ]
     },
     "execution_count": 322,
     "metadata": {},
     "output_type": "execute_result"
    },
    {
     "data": {
      "image/png": "[encoded data removed]",
      "text/plain": [
       "<Figure size 432x288 with 1 Axes>"
      ]
     },
     "metadata": {
      "needs_background": "light"
     },
     "output_type": "display_data"
    }
   ],
   "source": [
    "i_ini = 0\n",
    "for i in range (len(i_cuar) + 1):\n",
    "    if i == len(i_cuar):\n",
    "        i_end = len (df)\n",
    "    else:\n",
    "        i_end = i_cuar[i]\n",
    "    print (i_ini, i_end)\n",
    "    plt.plot(t_data[i_ini:i_end+1], C_real [i_ini:i_end+1])\n",
    "    i_ini = i_end\n",
    "\n",
    "plt.axhline(50)"
   ]
  },
  {
   "cell_type": "code",
   "execution_count": 323,
   "metadata": {},
   "outputs": [
    {
     "name": "stdout",
     "output_type": "stream",
     "text": [
      "31 19 22 56\n"
     ]
    }
   ],
   "source": [
    "pop = 215646\n",
    "\n",
    "# Ajuste a primeros días\n",
    "# r0 =   \n",
    "# e0 =   \n",
    "# i0 =  \n",
    "\n",
    "i0 = I_cb [len(C_pre)]\n",
    "r0 = R_cb [len(C_pre)]\n",
    "e0 = E_cb [len(C_pre)]\n",
    "s0 = pop - i0 - r0 - e0\n",
    "c0 = C_cb [len(C_pre)]\n",
    "c0m = C_mb [len(C_pre)]\n",
    "\n",
    "\n",
    "# Ajuste a primeros días\n",
    "r0 =  19 \n",
    "e0 =  22 \n",
    "i0 =  31\n",
    "\n",
    "s0 = pop - i0 - r0 - e0\n",
    "c0 = C_real[0]\n",
    "c0m = c0\n",
    "\n",
    "print (i0, r0, e0, c0)"
   ]
  },
  {
   "cell_type": "code",
   "execution_count": 324,
   "metadata": {},
   "outputs": [
    {
     "data": {
      "text/plain": [
       "0.3856258452621279"
      ]
     },
     "execution_count": 324,
     "metadata": {},
     "output_type": "execute_result"
    }
   ],
   "source": [
    "4.895477023965976e-07\n",
    "0.6871168953272974 \n",
    "0.05555556343557843 \n",
    "56.08000441355646 \n",
    "0.09999472332437251 \n",
    "0.3856258452621279"
   ]
  },
  {
   "cell_type": "code",
   "execution_count": 325,
   "metadata": {},
   "outputs": [
    {
     "name": "stdout",
     "output_type": "stream",
     "text": [
      "18    2020-03-30\n",
      "Name: FechaFormat, dtype: object\n"
     ]
    }
   ],
   "source": [
    "print (df.FechaFormat.iloc[i_cuar])"
   ]
  },
  {
   "cell_type": "code",
   "execution_count": 327,
   "metadata": {},
   "outputs": [
    {
     "name": "stdout",
     "output_type": "stream",
     "text": [
      "{'b0': [2.5e-06, 5e-06, 1e-05, 2.5e-05], 'b1': [5e-14, 1e-11, 1e-09, 1e-07, 1e-05]}\n",
      "betas =  [2.5e-06 5.0e-14] 12.54938793182373\n",
      "  min: RMSE =  6.240614942382201 ; b, s, g =  [array([2.5e-06, 5.0e-14]), 0.2, 0.125] ; a_d, k, a =  [25.0, 1.0, 0.7000000000000001] ; ( 5.0 ,  8.0 )\n",
      "betas =  [2.5e-06 1.0e-11] 12.375619173049927\n",
      "  min: RMSE =  6.240614942382201 ; b, s, g =  [array([2.5e-06, 5.0e-14]), 0.2, 0.125] ; a_d, k, a =  [25.0, 1.0, 0.7000000000000001] ; ( 5.0 ,  8.0 )\n",
      "betas =  [2.5e-06 1.0e-09] 12.397013664245605\n",
      "  min: RMSE =  6.219504153257485 ; b, s, g =  [array([2.5e-06, 1.0e-09]), 0.2, 0.125] ; a_d, k, a =  [25.0, 1.0, 0.7000000000000001] ; ( 5.0 ,  8.0 )\n",
      "betas =  [2.5e-06 1.0e-07] 12.347837924957275\n",
      "  min: RMSE =  6.219504153257485 ; b, s, g =  [array([2.5e-06, 1.0e-09]), 0.2, 0.125] ; a_d, k, a =  [25.0, 1.0, 0.7000000000000001] ; ( 5.0 ,  8.0 )\n",
      "betas =  [2.5e-06 1.0e-05] 12.553403854370117\n",
      "  min: RMSE =  6.219504153257485 ; b, s, g =  [array([2.5e-06, 1.0e-09]), 0.2, 0.125] ; a_d, k, a =  [25.0, 1.0, 0.7000000000000001] ; ( 5.0 ,  8.0 )\n",
      "betas =  [5.e-06 5.e-14] 10.950179815292358\n",
      "  min: RMSE =  6.219504153257485 ; b, s, g =  [array([2.5e-06, 1.0e-09]), 0.2, 0.125] ; a_d, k, a =  [25.0, 1.0, 0.7000000000000001] ; ( 5.0 ,  8.0 )\n",
      "betas =  [5.e-06 1.e-11] 10.611412048339844\n",
      "  min: RMSE =  6.219504153257485 ; b, s, g =  [array([2.5e-06, 1.0e-09]), 0.2, 0.125] ; a_d, k, a =  [25.0, 1.0, 0.7000000000000001] ; ( 5.0 ,  8.0 )\n",
      "betas =  [5.e-06 1.e-09] 10.714750289916992\n",
      "  min: RMSE =  6.219504153257485 ; b, s, g =  [array([2.5e-06, 1.0e-09]), 0.2, 0.125] ; a_d, k, a =  [25.0, 1.0, 0.7000000000000001] ; ( 5.0 ,  8.0 )\n",
      "betas =  [5.e-06 1.e-07] 10.697422742843628\n",
      "  min: RMSE =  6.219504153257485 ; b, s, g =  [array([2.5e-06, 1.0e-09]), 0.2, 0.125] ; a_d, k, a =  [25.0, 1.0, 0.7000000000000001] ; ( 5.0 ,  8.0 )\n",
      "betas =  [5.e-06 1.e-05] 10.680249691009521\n",
      "  min: RMSE =  6.219504153257485 ; b, s, g =  [array([2.5e-06, 1.0e-09]), 0.2, 0.125] ; a_d, k, a =  [25.0, 1.0, 0.7000000000000001] ; ( 5.0 ,  8.0 )\n",
      "betas =  [1.e-05 5.e-14] 10.779202938079834\n",
      "  min: RMSE =  6.219504153257485 ; b, s, g =  [array([2.5e-06, 1.0e-09]), 0.2, 0.125] ; a_d, k, a =  [25.0, 1.0, 0.7000000000000001] ; ( 5.0 ,  8.0 )\n",
      "betas =  [1.e-05 1.e-11] 10.605604887008667\n",
      "  min: RMSE =  6.219504153257485 ; b, s, g =  [array([2.5e-06, 1.0e-09]), 0.2, 0.125] ; a_d, k, a =  [25.0, 1.0, 0.7000000000000001] ; ( 5.0 ,  8.0 )\n",
      "betas =  [1.e-05 1.e-09] 10.65169882774353\n",
      "  min: RMSE =  6.219504153257485 ; b, s, g =  [array([2.5e-06, 1.0e-09]), 0.2, 0.125] ; a_d, k, a =  [25.0, 1.0, 0.7000000000000001] ; ( 5.0 ,  8.0 )\n",
      "betas =  [1.e-05 1.e-07] 10.72317099571228\n",
      "  min: RMSE =  6.219504153257485 ; b, s, g =  [array([2.5e-06, 1.0e-09]), 0.2, 0.125] ; a_d, k, a =  [25.0, 1.0, 0.7000000000000001] ; ( 5.0 ,  8.0 )\n",
      "betas =  [1.e-05 1.e-05] 11.39162278175354\n",
      "  min: RMSE =  6.219504153257485 ; b, s, g =  [array([2.5e-06, 1.0e-09]), 0.2, 0.125] ; a_d, k, a =  [25.0, 1.0, 0.7000000000000001] ; ( 5.0 ,  8.0 )\n",
      "betas =  [2.5e-05 5.0e-14] 12.818288326263428\n",
      "  min: RMSE =  6.219504153257485 ; b, s, g =  [array([2.5e-06, 1.0e-09]), 0.2, 0.125] ; a_d, k, a =  [25.0, 1.0, 0.7000000000000001] ; ( 5.0 ,  8.0 )\n",
      "betas =  [2.5e-05 1.0e-11] 12.28094482421875\n",
      "  min: RMSE =  6.219504153257485 ; b, s, g =  [array([2.5e-06, 1.0e-09]), 0.2, 0.125] ; a_d, k, a =  [25.0, 1.0, 0.7000000000000001] ; ( 5.0 ,  8.0 )\n",
      "betas =  [2.5e-05 1.0e-09] 12.422610998153687\n",
      "  min: RMSE =  6.219504153257485 ; b, s, g =  [array([2.5e-06, 1.0e-09]), 0.2, 0.125] ; a_d, k, a =  [25.0, 1.0, 0.7000000000000001] ; ( 5.0 ,  8.0 )\n",
      "betas =  [2.5e-05 1.0e-07] 12.644745826721191\n",
      "  min: RMSE =  6.219504153257485 ; b, s, g =  [array([2.5e-06, 1.0e-09]), 0.2, 0.125] ; a_d, k, a =  [25.0, 1.0, 0.7000000000000001] ; ( 5.0 ,  8.0 )\n",
      "betas =  [2.5e-05 1.0e-05] 12.35646390914917\n",
      "  min: RMSE =  6.219504153257485 ; b, s, g =  [array([2.5e-06, 1.0e-09]), 0.2, 0.125] ; a_d, k, a =  [25.0, 1.0, 0.7000000000000001] ; ( 5.0 ,  8.0 )\n"
     ]
    }
   ],
   "source": [
    "# First scenario: [12.428628768999268, array([4.e-06]), 0.5, 0.16666666666666666, 33.333333333333336, 1.6681005372000592, 0.1] 2.0 6.0\n",
    "# Second scenario: [7.725913817818546, array([9.e-07]), 1.0, 0.1, 46.66666666666667, 0.0774263682681127, 0.0] 1.0 10.0\n",
    "\n",
    "min_ = GridSearchSEIR_exams_measures (t_data, s0, e0, i0, r0, c0, c0m, C_real, i_dates_betas = i_cuar,\n",
    "                                      #transmission_coeffs = [[3e-6], [5e-7, 6e-7, 7e-7]], #, 8e-7, 9e-7, 1e-6]], # 1 / day person                                                              \n",
    "                                      transmission_coeffs = [[2.5e-6, 5e-6, 1e-5, 2.5e-5 ], [5e-14, 1e-11, 1e-9, 1e-7, 1e-5]], # 1 / day person                                                              \n",
    "#min_ = GridSearchSEIR_exams_measures (t_data, s0, e0, i0, r0, c0, c0, C_real, i_dates_betas = [],\n",
    "#                                      transmission_coeffs = [[8e-7, 9e-7, 1e-6, 2e-6, 3e-6, 4e-6, 5e-6, 6e-6, 7e-6]], # 1 / day person                                                              \n",
    "                                      latency_time = np.arange(1., 7., 1.), # days                                                                                                               \n",
    "                                      infectious_time = np.arange(6., 18, 2.), # days                                                                                                            \n",
    "                                      ks = 10**np.linspace(-2, 0, 5),\n",
    "                                      a_dates = np.linspace (25, 55, 4),\n",
    "                                      a_s = np.linspace(0., 1., 11), backward = True)\n"
   ]
  },
  {
   "cell_type": "code",
   "execution_count": null,
   "metadata": {},
   "outputs": [],
   "source": []
  },
  {
   "cell_type": "code",
   "execution_count": 328,
   "metadata": {},
   "outputs": [
    {
     "name": "stdout",
     "output_type": "stream",
     "text": [
      "[6.219504153257485, array([2.5e-06, 1.0e-09]), 0.2, 0.125, 25.0, 1.0, 0.7000000000000001] 5.0 8.0\n"
     ]
    }
   ],
   "source": [
    "RMSE, betas_g, sigma_g, gamma_g, a_date_g, k_g, a_g = min_\n",
    "print (min_, 1./sigma_g, 1/gamma_g)\n",
    "# [21.286217250087976, array([3.e-06, 8.e-07]), 0.5, 0.07142857142857142, 46.66666666666667, 0.01, 0.0] 2.0 14.0\n"
   ]
  },
  {
   "cell_type": "code",
   "execution_count": 329,
   "metadata": {},
   "outputs": [],
   "source": [
    "ts = np.arange (0, 100, 1)\n",
    "i_ini = len(i_data) - len(C_real)\n",
    "x_plot_data = np.array([df[\"Fecha_dt\"].iloc[0] + datetime.timedelta(days=i) for i in t_data.astype(float)])\n",
    "\n",
    "x_plot_proy = np.array([df[\"Fecha_dt\"].iloc[0] + datetime.timedelta(days=i) for i in np.arange(len(ts), dtype = float)])"
   ]
  },
  {
   "cell_type": "code",
   "execution_count": 330,
   "metadata": {},
   "outputs": [
    {
     "data": {
      "text/plain": [
       "<matplotlib.legend.Legend at 0x1a2cbf8908>"
      ]
     },
     "execution_count": 330,
     "metadata": {},
     "output_type": "execute_result"
    },
    {
     "data": {
      "image/png": "[encoded data removed]",
      "text/plain": [
       "<Figure size 432x288 with 1 Axes>"
      ]
     },
     "metadata": {
      "needs_background": "light"
     },
     "output_type": "display_data"
    }
   ],
   "source": [
    "\n",
    "S_c_g, E_c_g, I_c_g, R_c_g, C_c_g, C_m_g = SEIR_exams_measures_backward(ts, s0, e0, i0, r0, c0, c0m, \n",
    "                                                            i_cuar, betas_g, sigma_g, gamma_g, \n",
    "                                                            a_date_g, k_g, a_g)\n",
    "\n",
    "plt.plot (t_data, C_real, label = \"data\", marker = \"s\")\n",
    "plt.plot (ts, C_c_g, label = \"C real\")\n",
    "plt.plot (ts, I_c_g, label = \"I real\")\n",
    "plt.plot (ts, C_m_g, label = \"C measured\")\n",
    "plt.axvline (i_cuar)\n",
    "plt.plot ()\n",
    "plt.xlim(-5, 40)\n",
    "plt.ylim(-5, 1000)\n",
    "plt.legend()\n"
   ]
  },
  {
   "cell_type": "code",
   "execution_count": 336,
   "metadata": {},
   "outputs": [
    {
     "data": {
      "text/plain": [
       "<matplotlib.legend.Legend at 0x1a2d2581d0>"
      ]
     },
     "execution_count": 336,
     "metadata": {},
     "output_type": "execute_result"
    },
    {
     "data": {
      "image/png": "[encoded data removed]",
      "text/plain": [
       "<Figure size 432x288 with 1 Axes>"
      ]
     },
     "metadata": {
      "needs_background": "light"
     },
     "output_type": "display_data"
    }
   ],
   "source": [
    "ts = np.arange (0, 100, 1)\n",
    "S_c_g, E_c_g, I_c_g, R_c_g, C_c_g, C_m_g = SEIR_exams_measures_backward(ts, s0, e0, i0, r0, c0, c0, \n",
    "                                                            i_cuar, betas_g, sigma_g, gamma_g, \n",
    "                                                            a_date_g, k_g, a_g)\n",
    "\n",
    "plt.plot (x_plot_data, C_real, label = \"datos\", marker = \"s\")\n",
    "plt.plot (x_plot_proy, C_c_g, label = \"Contagiados totales\")\n",
    "plt.plot (x_plot_proy, C_m_g, label = \"Contagiados totales medidos\")\n",
    "plt.plot (x_plot_proy, I_c_g, label = \"Infectados diarios\")\n",
    "plt.axvline (x_plot_data[i_cuar], ls = \"--\", label = \"Inicio cuarentena\")\n",
    "\n",
    "plt.xlim (xmax = x_plot_proy[80])\n",
    "plt.xticks(rotation = 90)\n",
    "plt.ylabel (\"Número de Casos\")\n",
    "plt.title (\"Proyección Chillán\")\n",
    "plt.legend()"
   ]
  },
  {
   "cell_type": "code",
   "execution_count": 337,
   "metadata": {},
   "outputs": [
    {
     "name": "stdout",
     "output_type": "stream",
     "text": [
      "6.219504153257485\n"
     ]
    }
   ],
   "source": [
    "print (np.sqrt(((C_real-C_m_g[:len(C_real)])**2).mean()))"
   ]
  },
  {
   "cell_type": "code",
   "execution_count": 338,
   "metadata": {},
   "outputs": [
    {
     "data": {
      "text/plain": [
       "<matplotlib.collections.PathCollection at 0x1a2d3766a0>"
      ]
     },
     "execution_count": 338,
     "metadata": {},
     "output_type": "execute_result"
    },
    {
     "data": {
      "image/png": "[encoded data removed]",
      "text/plain": [
       "<Figure size 432x288 with 1 Axes>"
      ]
     },
     "metadata": {
      "needs_background": "light"
     },
     "output_type": "display_data"
    }
   ],
   "source": [
    "dC_c_g = C_c_g [1:16] - C_c_g[:15]\n",
    "dC_m_g = C_m_g [1:16] - C_m_g[:15]\n",
    "a__ = dC_m_g/dC_c_g\n",
    "alphas = 1 + (a_g-1)/(1+np.exp(-k_g*(dC_c_g-a_date_g)))\n",
    "plt.plot (dC_c_g, alphas)\n",
    "\n",
    "plt.scatter (dC_c_g, a__)"
   ]
  },
  {
   "cell_type": "code",
   "execution_count": 407,
   "metadata": {},
   "outputs": [
    {
     "data": {
      "text/plain": [
       "Text(0, 0.5, 'Porcentaje de infectados reportados')"
      ]
     },
     "execution_count": 407,
     "metadata": {},
     "output_type": "execute_result"
    },
    {
     "data": {
      "image/png": "[encoded data removed]",
      "text/plain": [
       "<Figure size 432x288 with 1 Axes>"
      ]
     },
     "metadata": {
      "needs_background": "light"
     },
     "output_type": "display_data"
    }
   ],
   "source": [
    "alphas = 1 + (a_g-1)/(1+np.exp(-k_g*(np.arange(15, 35) -a_date_g)))\n",
    "\n",
    "plt.plot(np.arange(15, 35), alphas*100)\n",
    "plt.xlabel (\"Nuevos infectados diarios\")\n",
    "plt.ylabel (\"Porcentaje de infectados reportados\")"
   ]
  },
  {
   "cell_type": "code",
   "execution_count": 339,
   "metadata": {},
   "outputs": [
    {
     "name": "stdout",
     "output_type": "stream",
     "text": [
      "[2.5e-06 1.0e-09]\n"
     ]
    }
   ],
   "source": [
    "print(betas_g)\n",
    "betas_g2 =np.array([betas_g[0], betas_g[1]])"
   ]
  },
  {
   "cell_type": "code",
   "execution_count": 340,
   "metadata": {},
   "outputs": [
    {
     "ename": "NameError",
     "evalue": "name 'i_dates_beta' is not defined",
     "output_type": "error",
     "traceback": [
      "\u001b[0;31m---------------------------------------------------------------------------\u001b[0m",
      "\u001b[0;31mNameError\u001b[0m                                 Traceback (most recent call last)",
      "\u001b[0;32m<ipython-input-340-9691e916ace1>\u001b[0m in \u001b[0;36m<module>\u001b[0;34m\u001b[0m\n\u001b[1;32m      1\u001b[0m S_c_g2, E_c_g2, I_c_g2, R_c_g2, C_c_g2, C_m_g2 = SEIR_exams_measures_backward(ts, s0, e0, i0, r0, c0, c0, \n\u001b[1;32m      2\u001b[0m                                                             \u001b[0;34m[\u001b[0m\u001b[0mi_cuar\u001b[0m\u001b[0;34m,\u001b[0m \u001b[0;36m30\u001b[0m\u001b[0;34m]\u001b[0m\u001b[0;34m,\u001b[0m \u001b[0mbetas_g2\u001b[0m\u001b[0;34m,\u001b[0m \u001b[0msigma_g\u001b[0m\u001b[0;34m,\u001b[0m \u001b[0mgamma_g\u001b[0m\u001b[0;34m,\u001b[0m\u001b[0;34m\u001b[0m\u001b[0;34m\u001b[0m\u001b[0m\n\u001b[0;32m----> 3\u001b[0;31m                                                             a_date_g, k_g, a_g)\n\u001b[0m",
      "\u001b[0;32m~/Trabajo/Datasets/COVID-19/COVID-19/src/SEIR_exams_measures.py\u001b[0m in \u001b[0;36mSEIR_exams_measures_backward\u001b[0;34m(t, s0, e0, i0, r0, c0, c0m, i_dates_betas, betas, sigma, gamma, a_date, k, a, Imax)\u001b[0m\n\u001b[1;32m     58\u001b[0m     \u001b[0;32mif\u001b[0m \u001b[0;34m(\u001b[0m\u001b[0mlen\u001b[0m\u001b[0;34m(\u001b[0m\u001b[0mi_dates_betas\u001b[0m\u001b[0;34m)\u001b[0m \u001b[0;34m!=\u001b[0m \u001b[0mlen\u001b[0m\u001b[0;34m(\u001b[0m\u001b[0mbetas\u001b[0m\u001b[0;34m)\u001b[0m \u001b[0;34m-\u001b[0m \u001b[0;36m1\u001b[0m\u001b[0;34m)\u001b[0m\u001b[0;34m:\u001b[0m\u001b[0;34m\u001b[0m\u001b[0;34m\u001b[0m\u001b[0m\n\u001b[1;32m     59\u001b[0m         raise Exception (\"The size of i_dates_beta should be equal to the size of betas - 1. Got:\", \n\u001b[0;32m---> 60\u001b[0;31m                          len(i_dates_beta), len(betas))\n\u001b[0m\u001b[1;32m     61\u001b[0m \u001b[0;34m\u001b[0m\u001b[0m\n\u001b[1;32m     62\u001b[0m     \u001b[0mS\u001b[0m \u001b[0;34m=\u001b[0m \u001b[0mnp\u001b[0m\u001b[0;34m.\u001b[0m\u001b[0mzeros\u001b[0m\u001b[0;34m(\u001b[0m\u001b[0mnum_steps\u001b[0m \u001b[0;34m+\u001b[0m \u001b[0;36m1\u001b[0m\u001b[0;34m)\u001b[0m\u001b[0;34m\u001b[0m\u001b[0;34m\u001b[0m\u001b[0m\n",
      "\u001b[0;31mNameError\u001b[0m: name 'i_dates_beta' is not defined"
     ]
    }
   ],
   "source": [
    "S_c_g2, E_c_g2, I_c_g2, R_c_g2, C_c_g2, C_m_g2 = SEIR_exams_measures_backward(ts, s0, e0, i0, r0, c0, c0, \n",
    "                                                            [i_cuar, 30], betas_g2, sigma_g, gamma_g, \n",
    "                                                            a_date_g, k_g, a_g)"
   ]
  },
  {
   "cell_type": "code",
   "execution_count": 341,
   "metadata": {},
   "outputs": [
    {
     "ename": "NameError",
     "evalue": "name 'C_c_g2' is not defined",
     "output_type": "error",
     "traceback": [
      "\u001b[0;31m---------------------------------------------------------------------------\u001b[0m",
      "\u001b[0;31mNameError\u001b[0m                                 Traceback (most recent call last)",
      "\u001b[0;32m<ipython-input-341-98d0b7bd9bcc>\u001b[0m in \u001b[0;36m<module>\u001b[0;34m\u001b[0m\n\u001b[1;32m      1\u001b[0m \u001b[0mplt\u001b[0m\u001b[0;34m.\u001b[0m\u001b[0mplot\u001b[0m \u001b[0;34m(\u001b[0m\u001b[0mx_plot_data\u001b[0m\u001b[0;34m,\u001b[0m \u001b[0mC_real\u001b[0m\u001b[0;34m,\u001b[0m \u001b[0mlabel\u001b[0m \u001b[0;34m=\u001b[0m \u001b[0;34m\"data\"\u001b[0m\u001b[0;34m,\u001b[0m \u001b[0mmarker\u001b[0m \u001b[0;34m=\u001b[0m \u001b[0;34m\"s\"\u001b[0m\u001b[0;34m)\u001b[0m\u001b[0;34m\u001b[0m\u001b[0;34m\u001b[0m\u001b[0m\n\u001b[0;32m----> 2\u001b[0;31m \u001b[0mplt\u001b[0m\u001b[0;34m.\u001b[0m\u001b[0mplot\u001b[0m \u001b[0;34m(\u001b[0m\u001b[0mx_plot_proy\u001b[0m\u001b[0;34m,\u001b[0m \u001b[0mC_c_g2\u001b[0m\u001b[0;34m,\u001b[0m \u001b[0mlabel\u001b[0m \u001b[0;34m=\u001b[0m \u001b[0;34m\"C real\"\u001b[0m\u001b[0;34m)\u001b[0m\u001b[0;34m\u001b[0m\u001b[0;34m\u001b[0m\u001b[0m\n\u001b[0m\u001b[1;32m      3\u001b[0m \u001b[0mplt\u001b[0m\u001b[0;34m.\u001b[0m\u001b[0mplot\u001b[0m \u001b[0;34m(\u001b[0m\u001b[0mx_plot_proy\u001b[0m\u001b[0;34m,\u001b[0m \u001b[0mC_m_g2\u001b[0m\u001b[0;34m,\u001b[0m \u001b[0mlabel\u001b[0m \u001b[0;34m=\u001b[0m \u001b[0;34m\"C measured\"\u001b[0m\u001b[0;34m)\u001b[0m\u001b[0;34m\u001b[0m\u001b[0;34m\u001b[0m\u001b[0m\n\u001b[1;32m      4\u001b[0m \u001b[0mplt\u001b[0m\u001b[0;34m.\u001b[0m\u001b[0mplot\u001b[0m \u001b[0;34m(\u001b[0m\u001b[0mx_plot_proy\u001b[0m\u001b[0;34m,\u001b[0m \u001b[0mI_c_g2\u001b[0m\u001b[0;34m,\u001b[0m \u001b[0mlabel\u001b[0m \u001b[0;34m=\u001b[0m \u001b[0;34m\"I real\"\u001b[0m\u001b[0;34m)\u001b[0m\u001b[0;34m\u001b[0m\u001b[0;34m\u001b[0m\u001b[0m\n\u001b[1;32m      5\u001b[0m \u001b[0mplt\u001b[0m\u001b[0;34m.\u001b[0m\u001b[0mplot\u001b[0m \u001b[0;34m(\u001b[0m\u001b[0;34m)\u001b[0m\u001b[0;34m\u001b[0m\u001b[0;34m\u001b[0m\u001b[0m\n",
      "\u001b[0;31mNameError\u001b[0m: name 'C_c_g2' is not defined"
     ]
    },
    {
     "data": {
      "image/png": "[encoded data removed]",
      "text/plain": [
       "<Figure size 432x288 with 1 Axes>"
      ]
     },
     "metadata": {
      "needs_background": "light"
     },
     "output_type": "display_data"
    }
   ],
   "source": [
    "plt.plot (x_plot_data, C_real, label = \"data\", marker = \"s\")\n",
    "plt.plot (x_plot_proy, C_c_g2, label = \"C real\")\n",
    "plt.plot (x_plot_proy, C_m_g2, label = \"C measured\")\n",
    "plt.plot (x_plot_proy, I_c_g2, label = \"I real\")\n",
    "plt.plot ()\n",
    "plt.xlim (x_plot_proy[0], x_plot_proy[50])\n",
    "plt.ylim (-5, 1000)\n",
    "plt.xticks(rotation = 90)\n",
    "plt.ylabel (\"Número de Casos\")\n",
    "plt.title (\"Proyección Ñuble\")\n",
    "plt.legend()"
   ]
  },
  {
   "cell_type": "markdown",
   "metadata": {},
   "source": [
    "# Eliminacion de cuarentena"
   ]
  },
  {
   "cell_type": "code",
   "execution_count": 398,
   "metadata": {},
   "outputs": [
    {
     "name": "stdout",
     "output_type": "stream",
     "text": [
      "[9, 34]\n"
     ]
    }
   ],
   "source": [
    "i_cuar2 = [i_cuar[0], \n",
    "          df.index[df.FechaFormat == \"2020-04-01\"][0] + 23 - df.index[0]]\n",
    "print (i_cuar2)"
   ]
  },
  {
   "cell_type": "code",
   "execution_count": 399,
   "metadata": {},
   "outputs": [
    {
     "name": "stdout",
     "output_type": "stream",
     "text": [
      "[2.5e-06, 1e-09, 2.5e-06]\n"
     ]
    }
   ],
   "source": [
    "betas_g2 = [betas_g[0], betas_g[1], betas_g[0]]\n",
    "print (betas_g2)"
   ]
  },
  {
   "cell_type": "code",
   "execution_count": 417,
   "metadata": {},
   "outputs": [
    {
     "data": {
      "text/plain": [
       "<matplotlib.legend.Legend at 0x1a30ae2438>"
      ]
     },
     "execution_count": 417,
     "metadata": {},
     "output_type": "execute_result"
    },
    {
     "data": {
      "image/png": "[encoded data removed]",
      "text/plain": [
       "<Figure size 432x288 with 1 Axes>"
      ]
     },
     "metadata": {
      "needs_background": "light"
     },
     "output_type": "display_data"
    }
   ],
   "source": [
    "\n",
    "ts = np.arange (0, 200, 1)\n",
    "i_ini = len(i_data) - len(C_real)\n",
    "x_plot_data = np.array([df[\"Fecha_dt\"].iloc[0] + datetime.timedelta(days=i) for i in t_data.astype(float)])\n",
    "x_plot_proy = np.array([df[\"Fecha_dt\"].iloc[0] + datetime.timedelta(days=i) for i in np.arange(len(ts), dtype = float)])\n",
    "\n",
    "S_c_g, E_c_g, I_c_g, R_c_g, C_c_g, C_m_g = SEIR_exams_measures_backward(ts, s0, e0, i0, r0, c0, c0, \n",
    "                                                            i_cuar2, betas_g2, sigma_g, gamma_g, \n",
    "                                                            a_date_g, k_g, a_g)\n",
    "\n",
    "plt.plot (x_plot_data, C_real, label = \"datos\", marker = \"s\")\n",
    "plt.plot (x_plot_proy, C_c_g, label = \"Contagiados real\")\n",
    "plt.plot (x_plot_proy, C_m_g, label = \"Contagiados medidos\")\n",
    "plt.plot (x_plot_proy, I_c_g, label = \"Infectados real\")\n",
    "plt.ylim (-10, 2000)\n",
    "plt.xlim (xmax = x_plot_proy[80])\n",
    "plt.xticks(rotation = 90)\n",
    "plt.axvline (x_plot_proy[i_cuar2[0]], ls = \"--\", label = \"Inicio cuarentena\")\n",
    "plt.axvline (x_plot_proy[i_cuar2[1]], ls = \"--\", label = \"Fin cuarentena\", c = \"darkred\")\n",
    "plt.ylabel (\"Número de Casos\")\n",
    "plt.title (\"Proyección Chillán levantando la cuarentena el\\nJueves 23 de Abril\")\n",
    "plt.legend()"
   ]
  },
  {
   "cell_type": "code",
   "execution_count": null,
   "metadata": {},
   "outputs": [],
   "source": []
  },
  {
   "cell_type": "code",
   "execution_count": null,
   "metadata": {},
   "outputs": [],
   "source": []
  },
  {
   "cell_type": "code",
   "execution_count": null,
   "metadata": {},
   "outputs": [],
   "source": []
  },
  {
   "cell_type": "code",
   "execution_count": null,
   "metadata": {},
   "outputs": [],
   "source": []
  },
  {
   "cell_type": "code",
   "execution_count": null,
   "metadata": {},
   "outputs": [],
   "source": []
  },
  {
   "cell_type": "code",
   "execution_count": null,
   "metadata": {},
   "outputs": [],
   "source": []
  },
  {
   "cell_type": "markdown",
   "metadata": {},
   "source": [
    "# Doble Cuarentena"
   ]
  },
  {
   "cell_type": "code",
   "execution_count": 390,
   "metadata": {},
   "outputs": [],
   "source": [
    "i_cuar3 = [i_cuar[0], # inicio cuar\n",
    "          df.index[df.FechaFormat == \"2020-04-01\"][0] + 23 - df.index[0], # fin cuar\n",
    "          df.index[df.FechaFormat == \"2020-04-01\"][0] + 23 + 14 - df.index[0], # ini cuar\n",
    "          df.index[df.FechaFormat == \"2020-04-01\"][0] + 23 + 14*2 - df.index[0], # fin cuar\n",
    "          df.index[df.FechaFormat == \"2020-04-01\"][0] + 23 + 14*3 - df.index[0], # ini cuar\n",
    "          df.index[df.FechaFormat == \"2020-04-01\"][0] + 23 + 14*4 - df.index[0]] # fin cuar\n"
   ]
  },
  {
   "cell_type": "code",
   "execution_count": 450,
   "metadata": {},
   "outputs": [
    {
     "data": {
      "text/plain": [
       "[9, 34, 55, 76, 97, 118, 139, 160, 181, 202, 223]"
      ]
     },
     "execution_count": 450,
     "metadata": {},
     "output_type": "execute_result"
    }
   ],
   "source": [
    "i_cuar3 = [i_cuar[0]]\n",
    "N_cuar = 21\n",
    "for i in range (10):\n",
    "    i_cuar3.append(df.index[df.FechaFormat == \"2020-04-01\"][0] + 23 + N_cuar*i - df.index[0])\n",
    "i_cuar3"
   ]
  },
  {
   "cell_type": "code",
   "execution_count": 451,
   "metadata": {},
   "outputs": [
    {
     "name": "stdout",
     "output_type": "stream",
     "text": [
      "[9, 34, 55, 76, 97, 118, 139, 160, 181, 202, 223]\n"
     ]
    }
   ],
   "source": [
    "print(i_cuar3)"
   ]
  },
  {
   "cell_type": "code",
   "execution_count": 452,
   "metadata": {},
   "outputs": [
    {
     "name": "stdout",
     "output_type": "stream",
     "text": [
      "[2.5e-06, 1e-09, 2.5e-06, 1e-09, 2.5e-06, 1e-09, 2.5e-06, 1e-09, 2.5e-06, 1e-09, 2.5e-06, 1e-09]\n"
     ]
    }
   ],
   "source": [
    "betas_g3 = [betas_g[0], betas_g[1], betas_g[0], betas_g[1], betas_g[0], betas_g[1], betas_g[0]]\n",
    "\n",
    "betas_g3 = []\n",
    "for i in range(len(i_cuar3) + 1):\n",
    "    if i%2 == 0:\n",
    "        betas_g3.append(betas_g[0])\n",
    "    else:\n",
    "        betas_g3.append(betas_g[1])\n",
    "        \n",
    "print (betas_g3)"
   ]
  },
  {
   "cell_type": "code",
   "execution_count": 454,
   "metadata": {},
   "outputs": [
    {
     "name": "stdout",
     "output_type": "stream",
     "text": [
      "55\n",
      "76\n",
      "97\n",
      "118\n",
      "139\n",
      "160\n",
      "181\n",
      "202\n",
      "223\n"
     ]
    },
    {
     "data": {
      "text/plain": [
       "<matplotlib.legend.Legend at 0x1a317fd320>"
      ]
     },
     "execution_count": 454,
     "metadata": {},
     "output_type": "execute_result"
    },
    {
     "data": {
      "image/png": "[encoded data removed]",
      "text/plain": [
       "<Figure size 432x288 with 1 Axes>"
      ]
     },
     "metadata": {
      "needs_background": "light"
     },
     "output_type": "display_data"
    }
   ],
   "source": [
    "\n",
    "ts = np.arange (0, 310, 1)\n",
    "x_plot_proy = np.array([df[\"Fecha_dt\"].iloc[0] + datetime.timedelta(days=i) for i in np.arange(len(ts), dtype = float)])\n",
    "\n",
    "S_c_g, E_c_g, I_c_g, R_c_g, C_c_g, C_m_g = SEIR_exams_measures_backward(ts, s0, e0, i0, r0, c0, c0, \n",
    "                                                            i_cuar3, betas_g3, sigma_g, gamma_g, \n",
    "                                                            a_date_g, k_g, a_g)\n",
    "plt.plot (x_plot_data, C_real, label = \"datos\", marker = \"s\")\n",
    "plt.plot (x_plot_proy, C_c_g, label = \"Contagiados real\")\n",
    "plt.plot (x_plot_proy, C_m_g, label = \"Contagiados medidos\")\n",
    "plt.plot (x_plot_proy, I_c_g, label = \"Infectados real\")\n",
    "plt.ylim (-10, 50000)\n",
    "#plt.xlim (xmax = x_plot_proy[100])\n",
    "plt.xticks(rotation = 90)\n",
    "plt.axvline (x_plot_proy[i_cuar3[0]], ls = \"--\", label = \"Inicio cuarentena\", c = \"darkcyan\")\n",
    "plt.axvline (x_plot_proy[i_cuar3[1]], ls = \"--\", label = \"Fin cuarentena\", c = \"darkred\")\n",
    "for i in range (2, len(i_cuar3)):\n",
    "    if (i % 2 == 0):\n",
    "        plt.axvline (x_plot_proy[i_cuar3[i]], ls = \"--\", c = \"darkcyan\")\n",
    "    else: \n",
    "        plt.axvline (x_plot_proy[i_cuar3[i]], ls = \"--\", c = \"darkred\")\n",
    "\n",
    "plt.ylabel (\"Número de Casos\")\n",
    "plt.title (\"Proyección Chillán usando cuarentenas intermitentes\\ncada \" + str(N_cuar) + \" días\")\n",
    "plt.legend()"
   ]
  },
  {
   "cell_type": "code",
   "execution_count": null,
   "metadata": {},
   "outputs": [],
   "source": []
  }
 ],
 "metadata": {
  "kernelspec": {
   "display_name": "Python 3",
   "language": "python",
   "name": "python3"
  },
  "language_info": {
   "codemirror_mode": {
    "name": "ipython",
    "version": 3
   },
   "file_extension": ".py",
   "mimetype": "text/x-python",
   "name": "python",
   "nbconvert_exporter": "python",
   "pygments_lexer": "ipython3",
   "version": "3.7.3"
  }
 },
 "nbformat": 4,
 "nbformat_minor": 2
}
