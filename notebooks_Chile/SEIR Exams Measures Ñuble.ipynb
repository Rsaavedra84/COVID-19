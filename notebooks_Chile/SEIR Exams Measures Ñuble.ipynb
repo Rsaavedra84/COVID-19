{
 "cells": [
  {
   "cell_type": "code",
   "execution_count": 5,
   "metadata": {},
   "outputs": [],
   "source": [
    "import matplotlib.pyplot as plt\n",
    "from scipy.optimize import curve_fit\n",
    "import numpy as np\n",
    "import pandas as pd\n",
    "import datetime\n",
    "\n",
    "import sys\n",
    "sys.path.insert(1, '../src/')\n",
    "\n",
    "from SEIR_exams_measures import *\n"
   ]
  },
  {
   "cell_type": "code",
   "execution_count": 81,
   "metadata": {},
   "outputs": [
    {
     "name": "stderr",
     "output_type": "stream",
     "text": [
      "//anaconda3/lib/python3.7/site-packages/ipykernel_launcher.py:6: SettingWithCopyWarning: \n",
      "A value is trying to be set on a copy of a slice from a DataFrame\n",
      "\n",
      "See the caveats in the documentation: http://pandas.pydata.org/pandas-docs/stable/indexing.html#indexing-view-versus-copy\n",
      "  \n"
     ]
    }
   ],
   "source": [
    "minsal = True\n",
    "if minsal:\n",
    "    df = pd.read_csv (\"../data/COVID_Chile_Regiones.csv\")\n",
    "    df = df.dropna(subset = [\"Region\"])\n",
    "    df[\"Fecha_dt\"] = pd.to_datetime (df[\"Fecha\"])\n",
    "    df[\"Fecha_dt\"][df[\"Fecha_dt\"] >= '2020-03-18'] -=  pd.Timedelta(hours=12)\n",
    "\n",
    "    df = df[(df[\"Region\"] == \"Ñuble\") & (df[\"Contagiados\"] > 0)]\n",
    "    i_data = df[\"Contagiados\"].values\n",
    "    df = df[(df[\"Region\"] == \"Ñuble\") & (df[\"Contagiados\"] > 50)]\n",
    "else:\n",
    "    df = pd.read_excel(\"../data/Ñuble.xls\")\n",
    "    df[\"Fecha_dt\"] = pd.to_datetime (df[\"Fecha\"])\n",
    "    i_data = df[\"Contagiados\"].values\n",
    "    df = df[df.Contagiados > 50]"
   ]
  },
  {
   "cell_type": "code",
   "execution_count": 82,
   "metadata": {},
   "outputs": [],
   "source": [
    "df = df.reset_index(drop=True)"
   ]
  },
  {
   "cell_type": "code",
   "execution_count": 83,
   "metadata": {},
   "outputs": [
    {
     "data": {
      "text/html": [
       "<div>\n",
       "<style scoped>\n",
       "    .dataframe tbody tr th:only-of-type {\n",
       "        vertical-align: middle;\n",
       "    }\n",
       "\n",
       "    .dataframe tbody tr th {\n",
       "        vertical-align: top;\n",
       "    }\n",
       "\n",
       "    .dataframe thead th {\n",
       "        text-align: right;\n",
       "    }\n",
       "</style>\n",
       "<table border=\"1\" class=\"dataframe\">\n",
       "  <thead>\n",
       "    <tr style=\"text-align: right;\">\n",
       "      <th></th>\n",
       "      <th>Region</th>\n",
       "      <th>Contagiados</th>\n",
       "      <th>Muertes</th>\n",
       "      <th>Recuperados</th>\n",
       "      <th>Infectados_Actuales</th>\n",
       "      <th>Fecha</th>\n",
       "      <th>Total_Contagiados</th>\n",
       "      <th>Fecha_dt</th>\n",
       "    </tr>\n",
       "  </thead>\n",
       "  <tbody>\n",
       "    <tr>\n",
       "      <th>0</th>\n",
       "      <td>Ñuble</td>\n",
       "      <td>58</td>\n",
       "      <td>0</td>\n",
       "      <td>0</td>\n",
       "      <td>58</td>\n",
       "      <td>3/21/2020</td>\n",
       "      <td>NaN</td>\n",
       "      <td>2020-03-20 12:00:00</td>\n",
       "    </tr>\n",
       "    <tr>\n",
       "      <th>1</th>\n",
       "      <td>Ñuble</td>\n",
       "      <td>64</td>\n",
       "      <td>0</td>\n",
       "      <td>0</td>\n",
       "      <td>64</td>\n",
       "      <td>3/22/2020</td>\n",
       "      <td>NaN</td>\n",
       "      <td>2020-03-21 12:00:00</td>\n",
       "    </tr>\n",
       "    <tr>\n",
       "      <th>2</th>\n",
       "      <td>Ñuble</td>\n",
       "      <td>81</td>\n",
       "      <td>0</td>\n",
       "      <td>0</td>\n",
       "      <td>81</td>\n",
       "      <td>3/23/2020</td>\n",
       "      <td>NaN</td>\n",
       "      <td>2020-03-22 12:00:00</td>\n",
       "    </tr>\n",
       "    <tr>\n",
       "      <th>3</th>\n",
       "      <td>Ñuble</td>\n",
       "      <td>105</td>\n",
       "      <td>0</td>\n",
       "      <td>0</td>\n",
       "      <td>105</td>\n",
       "      <td>3/24/2020</td>\n",
       "      <td>NaN</td>\n",
       "      <td>2020-03-23 12:00:00</td>\n",
       "    </tr>\n",
       "    <tr>\n",
       "      <th>4</th>\n",
       "      <td>Ñuble</td>\n",
       "      <td>111</td>\n",
       "      <td>0</td>\n",
       "      <td>0</td>\n",
       "      <td>111</td>\n",
       "      <td>3/25/2020</td>\n",
       "      <td>NaN</td>\n",
       "      <td>2020-03-24 12:00:00</td>\n",
       "    </tr>\n",
       "    <tr>\n",
       "      <th>5</th>\n",
       "      <td>Ñuble</td>\n",
       "      <td>114</td>\n",
       "      <td>0</td>\n",
       "      <td>1</td>\n",
       "      <td>113</td>\n",
       "      <td>3/26/2020</td>\n",
       "      <td>NaN</td>\n",
       "      <td>2020-03-25 12:00:00</td>\n",
       "    </tr>\n",
       "    <tr>\n",
       "      <th>6</th>\n",
       "      <td>Ñuble</td>\n",
       "      <td>144</td>\n",
       "      <td>0</td>\n",
       "      <td>2</td>\n",
       "      <td>142</td>\n",
       "      <td>3/27/2020</td>\n",
       "      <td>NaN</td>\n",
       "      <td>2020-03-26 12:00:00</td>\n",
       "    </tr>\n",
       "    <tr>\n",
       "      <th>7</th>\n",
       "      <td>Ñuble</td>\n",
       "      <td>172</td>\n",
       "      <td>0</td>\n",
       "      <td>4</td>\n",
       "      <td>168</td>\n",
       "      <td>3/28/2020</td>\n",
       "      <td>NaN</td>\n",
       "      <td>2020-03-27 12:00:00</td>\n",
       "    </tr>\n",
       "    <tr>\n",
       "      <th>8</th>\n",
       "      <td>Ñuble</td>\n",
       "      <td>197</td>\n",
       "      <td>0</td>\n",
       "      <td>4</td>\n",
       "      <td>193</td>\n",
       "      <td>3/29/2020</td>\n",
       "      <td>NaN</td>\n",
       "      <td>2020-03-28 12:00:00</td>\n",
       "    </tr>\n",
       "    <tr>\n",
       "      <th>9</th>\n",
       "      <td>Ñuble</td>\n",
       "      <td>229</td>\n",
       "      <td>0</td>\n",
       "      <td>12</td>\n",
       "      <td>217</td>\n",
       "      <td>3/30/2020</td>\n",
       "      <td>NaN</td>\n",
       "      <td>2020-03-29 12:00:00</td>\n",
       "    </tr>\n",
       "    <tr>\n",
       "      <th>10</th>\n",
       "      <td>Ñuble</td>\n",
       "      <td>245</td>\n",
       "      <td>0</td>\n",
       "      <td>26</td>\n",
       "      <td>219</td>\n",
       "      <td>3/31/2020</td>\n",
       "      <td>NaN</td>\n",
       "      <td>2020-03-30 12:00:00</td>\n",
       "    </tr>\n",
       "    <tr>\n",
       "      <th>11</th>\n",
       "      <td>Ñuble</td>\n",
       "      <td>259</td>\n",
       "      <td>0</td>\n",
       "      <td>26</td>\n",
       "      <td>233</td>\n",
       "      <td>4/1/2020</td>\n",
       "      <td>NaN</td>\n",
       "      <td>2020-03-31 12:00:00</td>\n",
       "    </tr>\n",
       "    <tr>\n",
       "      <th>12</th>\n",
       "      <td>Ñuble</td>\n",
       "      <td>341</td>\n",
       "      <td>0</td>\n",
       "      <td>28</td>\n",
       "      <td>313</td>\n",
       "      <td>4/2/2020</td>\n",
       "      <td>NaN</td>\n",
       "      <td>2020-04-01 12:00:00</td>\n",
       "    </tr>\n",
       "    <tr>\n",
       "      <th>13</th>\n",
       "      <td>Ñuble</td>\n",
       "      <td>370</td>\n",
       "      <td>1</td>\n",
       "      <td>43</td>\n",
       "      <td>326</td>\n",
       "      <td>4/3/2020</td>\n",
       "      <td>NaN</td>\n",
       "      <td>2020-04-02 12:00:00</td>\n",
       "    </tr>\n",
       "    <tr>\n",
       "      <th>14</th>\n",
       "      <td>Ñuble</td>\n",
       "      <td>401</td>\n",
       "      <td>2</td>\n",
       "      <td>56</td>\n",
       "      <td>343</td>\n",
       "      <td>4/4/2020</td>\n",
       "      <td>NaN</td>\n",
       "      <td>2020-04-03 12:00:00</td>\n",
       "    </tr>\n",
       "    <tr>\n",
       "      <th>15</th>\n",
       "      <td>Ñuble</td>\n",
       "      <td>425</td>\n",
       "      <td>3</td>\n",
       "      <td>61</td>\n",
       "      <td>361</td>\n",
       "      <td>4/5/2020</td>\n",
       "      <td>NaN</td>\n",
       "      <td>2020-04-04 12:00:00</td>\n",
       "    </tr>\n",
       "    <tr>\n",
       "      <th>16</th>\n",
       "      <td>Ñuble</td>\n",
       "      <td>474</td>\n",
       "      <td>4</td>\n",
       "      <td>77</td>\n",
       "      <td>393</td>\n",
       "      <td>4/6/2020</td>\n",
       "      <td>NaN</td>\n",
       "      <td>2020-04-05 12:00:00</td>\n",
       "    </tr>\n",
       "    <tr>\n",
       "      <th>17</th>\n",
       "      <td>Ñuble</td>\n",
       "      <td>522</td>\n",
       "      <td>5</td>\n",
       "      <td>100</td>\n",
       "      <td>417</td>\n",
       "      <td>4/7/2020</td>\n",
       "      <td>NaN</td>\n",
       "      <td>2020-04-06 12:00:00</td>\n",
       "    </tr>\n",
       "    <tr>\n",
       "      <th>18</th>\n",
       "      <td>Ñuble</td>\n",
       "      <td>561</td>\n",
       "      <td>5</td>\n",
       "      <td>106</td>\n",
       "      <td>450</td>\n",
       "      <td>4/8/2020</td>\n",
       "      <td>NaN</td>\n",
       "      <td>2020-04-07 12:00:00</td>\n",
       "    </tr>\n",
       "    <tr>\n",
       "      <th>19</th>\n",
       "      <td>Ñuble</td>\n",
       "      <td>571</td>\n",
       "      <td>6</td>\n",
       "      <td>108</td>\n",
       "      <td>457</td>\n",
       "      <td>4/9/2020</td>\n",
       "      <td>NaN</td>\n",
       "      <td>2020-04-08 12:00:00</td>\n",
       "    </tr>\n",
       "    <tr>\n",
       "      <th>20</th>\n",
       "      <td>Ñuble</td>\n",
       "      <td>589</td>\n",
       "      <td>6</td>\n",
       "      <td>138</td>\n",
       "      <td>445</td>\n",
       "      <td>4/10/2020</td>\n",
       "      <td>NaN</td>\n",
       "      <td>2020-04-09 12:00:00</td>\n",
       "    </tr>\n",
       "    <tr>\n",
       "      <th>21</th>\n",
       "      <td>Ñuble</td>\n",
       "      <td>606</td>\n",
       "      <td>6</td>\n",
       "      <td>166</td>\n",
       "      <td>434</td>\n",
       "      <td>4/11/2020</td>\n",
       "      <td>NaN</td>\n",
       "      <td>2020-04-10 12:00:00</td>\n",
       "    </tr>\n",
       "    <tr>\n",
       "      <th>22</th>\n",
       "      <td>Ñuble</td>\n",
       "      <td>613</td>\n",
       "      <td>7</td>\n",
       "      <td>190</td>\n",
       "      <td>416</td>\n",
       "      <td>4/12/2020</td>\n",
       "      <td>NaN</td>\n",
       "      <td>2020-04-11 12:00:00</td>\n",
       "    </tr>\n",
       "    <tr>\n",
       "      <th>23</th>\n",
       "      <td>Ñuble</td>\n",
       "      <td>618</td>\n",
       "      <td>7</td>\n",
       "      <td>222</td>\n",
       "      <td>389</td>\n",
       "      <td>4/13/2020</td>\n",
       "      <td>NaN</td>\n",
       "      <td>2020-04-12 12:00:00</td>\n",
       "    </tr>\n",
       "    <tr>\n",
       "      <th>24</th>\n",
       "      <td>Ñuble</td>\n",
       "      <td>622</td>\n",
       "      <td>8</td>\n",
       "      <td>237</td>\n",
       "      <td>377</td>\n",
       "      <td>4/14/2020</td>\n",
       "      <td>NaN</td>\n",
       "      <td>2020-04-13 12:00:00</td>\n",
       "    </tr>\n",
       "    <tr>\n",
       "      <th>25</th>\n",
       "      <td>Ñuble</td>\n",
       "      <td>634</td>\n",
       "      <td>8</td>\n",
       "      <td>251</td>\n",
       "      <td>375</td>\n",
       "      <td>4/15/2020</td>\n",
       "      <td>NaN</td>\n",
       "      <td>2020-04-14 12:00:00</td>\n",
       "    </tr>\n",
       "    <tr>\n",
       "      <th>26</th>\n",
       "      <td>Ñuble</td>\n",
       "      <td>639</td>\n",
       "      <td>10</td>\n",
       "      <td>331</td>\n",
       "      <td>298</td>\n",
       "      <td>4/16/2020</td>\n",
       "      <td>NaN</td>\n",
       "      <td>2020-04-15 12:00:00</td>\n",
       "    </tr>\n",
       "    <tr>\n",
       "      <th>27</th>\n",
       "      <td>Ñuble</td>\n",
       "      <td>656</td>\n",
       "      <td>11</td>\n",
       "      <td>359</td>\n",
       "      <td>286</td>\n",
       "      <td>4/17/2020</td>\n",
       "      <td>NaN</td>\n",
       "      <td>2020-04-16 12:00:00</td>\n",
       "    </tr>\n",
       "    <tr>\n",
       "      <th>28</th>\n",
       "      <td>Ñuble</td>\n",
       "      <td>667</td>\n",
       "      <td>12</td>\n",
       "      <td>389</td>\n",
       "      <td>266</td>\n",
       "      <td>4/18/2020</td>\n",
       "      <td>NaN</td>\n",
       "      <td>2020-04-17 12:00:00</td>\n",
       "    </tr>\n",
       "    <tr>\n",
       "      <th>29</th>\n",
       "      <td>Ñuble</td>\n",
       "      <td>678</td>\n",
       "      <td>13</td>\n",
       "      <td>412</td>\n",
       "      <td>253</td>\n",
       "      <td>4/19/2020</td>\n",
       "      <td>NaN</td>\n",
       "      <td>2020-04-18 12:00:00</td>\n",
       "    </tr>\n",
       "    <tr>\n",
       "      <th>30</th>\n",
       "      <td>Ñuble</td>\n",
       "      <td>687</td>\n",
       "      <td>13</td>\n",
       "      <td>461</td>\n",
       "      <td>213</td>\n",
       "      <td>4/20/2020</td>\n",
       "      <td>NaN</td>\n",
       "      <td>2020-04-19 12:00:00</td>\n",
       "    </tr>\n",
       "    <tr>\n",
       "      <th>31</th>\n",
       "      <td>Ñuble</td>\n",
       "      <td>694</td>\n",
       "      <td>13</td>\n",
       "      <td>509</td>\n",
       "      <td>172</td>\n",
       "      <td>4/21/2020</td>\n",
       "      <td>NaN</td>\n",
       "      <td>2020-04-20 12:00:00</td>\n",
       "    </tr>\n",
       "    <tr>\n",
       "      <th>32</th>\n",
       "      <td>Ñuble</td>\n",
       "      <td>703</td>\n",
       "      <td>13</td>\n",
       "      <td>548</td>\n",
       "      <td>142</td>\n",
       "      <td>4/22/2020</td>\n",
       "      <td>NaN</td>\n",
       "      <td>2020-04-21 12:00:00</td>\n",
       "    </tr>\n",
       "    <tr>\n",
       "      <th>33</th>\n",
       "      <td>Ñuble</td>\n",
       "      <td>708</td>\n",
       "      <td>13</td>\n",
       "      <td>558</td>\n",
       "      <td>137</td>\n",
       "      <td>4/23/2020</td>\n",
       "      <td>NaN</td>\n",
       "      <td>2020-04-22 12:00:00</td>\n",
       "    </tr>\n",
       "    <tr>\n",
       "      <th>34</th>\n",
       "      <td>Ñuble</td>\n",
       "      <td>715</td>\n",
       "      <td>14</td>\n",
       "      <td>575</td>\n",
       "      <td>126</td>\n",
       "      <td>4/24/2020</td>\n",
       "      <td>NaN</td>\n",
       "      <td>2020-04-23 12:00:00</td>\n",
       "    </tr>\n",
       "    <tr>\n",
       "      <th>35</th>\n",
       "      <td>Ñuble</td>\n",
       "      <td>725</td>\n",
       "      <td>14</td>\n",
       "      <td>592</td>\n",
       "      <td>119</td>\n",
       "      <td>4/25/2020</td>\n",
       "      <td>NaN</td>\n",
       "      <td>2020-04-24 12:00:00</td>\n",
       "    </tr>\n",
       "    <tr>\n",
       "      <th>36</th>\n",
       "      <td>Ñuble</td>\n",
       "      <td>731</td>\n",
       "      <td>14</td>\n",
       "      <td>599</td>\n",
       "      <td>118</td>\n",
       "      <td>4/26/2020</td>\n",
       "      <td>NaN</td>\n",
       "      <td>2020-04-25 12:00:00</td>\n",
       "    </tr>\n",
       "    <tr>\n",
       "      <th>37</th>\n",
       "      <td>Ñuble</td>\n",
       "      <td>741</td>\n",
       "      <td>14</td>\n",
       "      <td>604</td>\n",
       "      <td>123</td>\n",
       "      <td>4/27/2020</td>\n",
       "      <td>NaN</td>\n",
       "      <td>2020-04-26 12:00:00</td>\n",
       "    </tr>\n",
       "  </tbody>\n",
       "</table>\n",
       "</div>"
      ],
      "text/plain": [
       "   Region  Contagiados  Muertes  Recuperados  Infectados_Actuales      Fecha  \\\n",
       "0   Ñuble           58        0            0                   58  3/21/2020   \n",
       "1   Ñuble           64        0            0                   64  3/22/2020   \n",
       "2   Ñuble           81        0            0                   81  3/23/2020   \n",
       "3   Ñuble          105        0            0                  105  3/24/2020   \n",
       "4   Ñuble          111        0            0                  111  3/25/2020   \n",
       "5   Ñuble          114        0            1                  113  3/26/2020   \n",
       "6   Ñuble          144        0            2                  142  3/27/2020   \n",
       "7   Ñuble          172        0            4                  168  3/28/2020   \n",
       "8   Ñuble          197        0            4                  193  3/29/2020   \n",
       "9   Ñuble          229        0           12                  217  3/30/2020   \n",
       "10  Ñuble          245        0           26                  219  3/31/2020   \n",
       "11  Ñuble          259        0           26                  233   4/1/2020   \n",
       "12  Ñuble          341        0           28                  313   4/2/2020   \n",
       "13  Ñuble          370        1           43                  326   4/3/2020   \n",
       "14  Ñuble          401        2           56                  343   4/4/2020   \n",
       "15  Ñuble          425        3           61                  361   4/5/2020   \n",
       "16  Ñuble          474        4           77                  393   4/6/2020   \n",
       "17  Ñuble          522        5          100                  417   4/7/2020   \n",
       "18  Ñuble          561        5          106                  450   4/8/2020   \n",
       "19  Ñuble          571        6          108                  457   4/9/2020   \n",
       "20  Ñuble          589        6          138                  445  4/10/2020   \n",
       "21  Ñuble          606        6          166                  434  4/11/2020   \n",
       "22  Ñuble          613        7          190                  416  4/12/2020   \n",
       "23  Ñuble          618        7          222                  389  4/13/2020   \n",
       "24  Ñuble          622        8          237                  377  4/14/2020   \n",
       "25  Ñuble          634        8          251                  375  4/15/2020   \n",
       "26  Ñuble          639       10          331                  298  4/16/2020   \n",
       "27  Ñuble          656       11          359                  286  4/17/2020   \n",
       "28  Ñuble          667       12          389                  266  4/18/2020   \n",
       "29  Ñuble          678       13          412                  253  4/19/2020   \n",
       "30  Ñuble          687       13          461                  213  4/20/2020   \n",
       "31  Ñuble          694       13          509                  172  4/21/2020   \n",
       "32  Ñuble          703       13          548                  142  4/22/2020   \n",
       "33  Ñuble          708       13          558                  137  4/23/2020   \n",
       "34  Ñuble          715       14          575                  126  4/24/2020   \n",
       "35  Ñuble          725       14          592                  119  4/25/2020   \n",
       "36  Ñuble          731       14          599                  118  4/26/2020   \n",
       "37  Ñuble          741       14          604                  123  4/27/2020   \n",
       "\n",
       "    Total_Contagiados            Fecha_dt  \n",
       "0                 NaN 2020-03-20 12:00:00  \n",
       "1                 NaN 2020-03-21 12:00:00  \n",
       "2                 NaN 2020-03-22 12:00:00  \n",
       "3                 NaN 2020-03-23 12:00:00  \n",
       "4                 NaN 2020-03-24 12:00:00  \n",
       "5                 NaN 2020-03-25 12:00:00  \n",
       "6                 NaN 2020-03-26 12:00:00  \n",
       "7                 NaN 2020-03-27 12:00:00  \n",
       "8                 NaN 2020-03-28 12:00:00  \n",
       "9                 NaN 2020-03-29 12:00:00  \n",
       "10                NaN 2020-03-30 12:00:00  \n",
       "11                NaN 2020-03-31 12:00:00  \n",
       "12                NaN 2020-04-01 12:00:00  \n",
       "13                NaN 2020-04-02 12:00:00  \n",
       "14                NaN 2020-04-03 12:00:00  \n",
       "15                NaN 2020-04-04 12:00:00  \n",
       "16                NaN 2020-04-05 12:00:00  \n",
       "17                NaN 2020-04-06 12:00:00  \n",
       "18                NaN 2020-04-07 12:00:00  \n",
       "19                NaN 2020-04-08 12:00:00  \n",
       "20                NaN 2020-04-09 12:00:00  \n",
       "21                NaN 2020-04-10 12:00:00  \n",
       "22                NaN 2020-04-11 12:00:00  \n",
       "23                NaN 2020-04-12 12:00:00  \n",
       "24                NaN 2020-04-13 12:00:00  \n",
       "25                NaN 2020-04-14 12:00:00  \n",
       "26                NaN 2020-04-15 12:00:00  \n",
       "27                NaN 2020-04-16 12:00:00  \n",
       "28                NaN 2020-04-17 12:00:00  \n",
       "29                NaN 2020-04-18 12:00:00  \n",
       "30                NaN 2020-04-19 12:00:00  \n",
       "31                NaN 2020-04-20 12:00:00  \n",
       "32                NaN 2020-04-21 12:00:00  \n",
       "33                NaN 2020-04-22 12:00:00  \n",
       "34                NaN 2020-04-23 12:00:00  \n",
       "35                NaN 2020-04-24 12:00:00  \n",
       "36                NaN 2020-04-25 12:00:00  \n",
       "37                NaN 2020-04-26 12:00:00  "
      ]
     },
     "execution_count": 83,
     "metadata": {},
     "output_type": "execute_result"
    }
   ],
   "source": [
    "df"
   ]
  },
  {
   "cell_type": "code",
   "execution_count": 166,
   "metadata": {},
   "outputs": [
    {
     "name": "stdout",
     "output_type": "stream",
     "text": [
      "4/4/2020\n",
      "[12, 33]\n",
      "12     4/2/2020\n",
      "33    4/23/2020\n",
      "Name: Fecha, dtype: object\n"
     ]
    }
   ],
   "source": [
    "i_cuar = 10\n",
    "i_cuar = 14\n",
    "\n",
    "print (df.Fecha.iloc[i_cuar])\n",
    "\n",
    "i_cuar2 = [df.index[df.Fecha == \"3/30/2020\"][0]+3, \n",
    "          df.index[df.Fecha == \"4/23/2020\"][0]]\n",
    "print (i_cuar2)\n",
    "print (df.Fecha.iloc[i_cuar2])\n",
    "t_data = np.arange(len(df.Infectados_Actuales))\n",
    "C_real = df.Contagiados.values\n",
    "I_real = df.Infectados_Actuales.values\n",
    "R_real = df.Recuperados.values + df.Muertes.values\n",
    "\n"
   ]
  },
  {
   "cell_type": "code",
   "execution_count": 167,
   "metadata": {},
   "outputs": [
    {
     "data": {
      "text/plain": [
       "[<matplotlib.lines.Line2D at 0x1a1cbace48>]"
      ]
     },
     "execution_count": 167,
     "metadata": {},
     "output_type": "execute_result"
    },
    {
     "data": {
      "image/png": "[encoded data removed]",
      "text/plain": [
       "<Figure size 432x288 with 1 Axes>"
      ]
     },
     "metadata": {
      "needs_background": "light"
     },
     "output_type": "display_data"
    }
   ],
   "source": [
    "plt.plot(t_data[:i_cuar+1], C_real [:i_cuar+1], marker = \"x\")\n",
    "plt.plot(t_data[i_cuar:], C_real [i_cuar:], marker = \"+\")\n"
   ]
  },
  {
   "cell_type": "code",
   "execution_count": 168,
   "metadata": {},
   "outputs": [],
   "source": [
    "pop = 511551\n",
    "\n",
    "# Ajuste a primeros días\n",
    "r0 =  19 \n",
    "e0 =  22 \n",
    "i0 =  31\n",
    "\n",
    "s0 = pop - i0 - r0 - e0\n",
    "c0 = C_real[0]\n"
   ]
  },
  {
   "cell_type": "code",
   "execution_count": 171,
   "metadata": {},
   "outputs": [
    {
     "name": "stdout",
     "output_type": "stream",
     "text": [
      "[array([8.e-07]), array([1.e-07]), array([1.0e-07, 1.6e-07, 1.7e-07, 2.0e-07, 3.0e-07, 4.0e-07, 5.0e-07,\n",
      "       6.0e-07])]\n"
     ]
    }
   ],
   "source": [
    "#[8.486029477192394, array([7.e-07, 1.e-14]), 0.5, 0.125, 50.0, 0.1, 0.4] 2.0 8.0\n",
    "#[12.020757851191542, array([8.e-07, 1.e-07, 5.e-07]), \n",
    "# 0.5, 0.16666666666666666, 40.0, 0.03162277660168379, 0.30000000000000004]\n",
    "trans_coeffs = []\n",
    "trans_coeffs.append(np.array([8e-7]))\n",
    "trans_coeffs.append(np.array([1e-7]))\n",
    "trans_coeffs.append(np.array([1e-7, 1.6e-7, 1.7e-7, 2e-7, 3e-7, 4e-7, 5e-7, 6e-7]))\n",
    "print (trans_coeffs)"
   ]
  },
  {
   "cell_type": "markdown",
   "metadata": {},
   "source": [
    "4.895477023965976e-07\n",
    "0.6871168953272974 \n",
    "0.05555556343557843 \n",
    "56.08000441355646 \n",
    "0.09999472332437251 \n",
    "0.3856258452621279"
   ]
  },
  {
   "cell_type": "code",
   "execution_count": 172,
   "metadata": {
    "scrolled": true
   },
   "outputs": [
    {
     "name": "stdout",
     "output_type": "stream",
     "text": [
      "{'b0': array([8.e-07]), 'b1': array([1.e-07]), 'b2': array([1.0e-07, 1.6e-07, 1.7e-07, 2.0e-07, 3.0e-07, 4.0e-07, 5.0e-07,\n",
      "       6.0e-07])}\n",
      "betas =  [8.e-07 1.e-07 1.e-07] 21.507854223251343\n",
      "  min: RMSE =  13.185246936207585 ; b, s, g =  [array([8.e-07, 1.e-07, 1.e-07]), 0.3333333333333333, 0.125] ; a_d, k, a =  [60.0, 0.01, 0.5] ; ( 3.0 ,  8.0 )\n",
      "betas =  [8.0e-07 1.0e-07 1.6e-07] 20.35427212715149\n",
      "  min: RMSE =  13.07705583142758 ; b, s, g =  [array([8.0e-07, 1.0e-07, 1.6e-07]), 0.3333333333333333, 0.125] ; a_d, k, a =  [60.0, 0.01, 0.5] ; ( 3.0 ,  8.0 )\n",
      "betas =  [8.0e-07 1.0e-07 1.7e-07] 19.748671054840088\n",
      "  min: RMSE =  13.062015645970984 ; b, s, g =  [array([8.0e-07, 1.0e-07, 1.7e-07]), 0.3333333333333333, 0.125] ; a_d, k, a =  [60.0, 0.01, 0.5] ; ( 3.0 ,  8.0 )\n",
      "betas =  [8.e-07 1.e-07 2.e-07] 19.075050115585327\n",
      "  min: RMSE =  13.022321025355476 ; b, s, g =  [array([8.e-07, 1.e-07, 2.e-07]), 0.3333333333333333, 0.125] ; a_d, k, a =  [60.0, 0.01, 0.5] ; ( 3.0 ,  8.0 )\n",
      "betas =  [8.e-07 1.e-07 3.e-07] 18.613532066345215\n",
      "  min: RMSE =  12.953268281789375 ; b, s, g =  [array([8.e-07, 1.e-07, 3.e-07]), 0.3333333333333333, 0.125] ; a_d, k, a =  [60.0, 0.01, 0.5] ; ( 3.0 ,  8.0 )\n",
      "betas =  [8.e-07 1.e-07 4.e-07] 20.798771858215332\n",
      "  min: RMSE =  12.953268281789375 ; b, s, g =  [array([8.e-07, 1.e-07, 3.e-07]), 0.3333333333333333, 0.125] ; a_d, k, a =  [60.0, 0.01, 0.5] ; ( 3.0 ,  8.0 )\n",
      "betas =  [8.e-07 1.e-07 5.e-07] 19.04624104499817\n",
      "  min: RMSE =  12.953268281789375 ; b, s, g =  [array([8.e-07, 1.e-07, 3.e-07]), 0.3333333333333333, 0.125] ; a_d, k, a =  [60.0, 0.01, 0.5] ; ( 3.0 ,  8.0 )\n",
      "betas =  [8.e-07 1.e-07 6.e-07] 23.96334719657898\n",
      "  min: RMSE =  12.953268281789375 ; b, s, g =  [array([8.e-07, 1.e-07, 3.e-07]), 0.3333333333333333, 0.125] ; a_d, k, a =  [60.0, 0.01, 0.5] ; ( 3.0 ,  8.0 )\n"
     ]
    }
   ],
   "source": [
    "min_ = GridSearchSEIR_exams_measures (t_data, s0, e0, i0, r0, c0, c0, C_real, i_dates_betas = i_cuar2,\n",
    "                                      transmission_coeffs = trans_coeffs, # 1 / day person                                                              \n",
    "                                      latency_time = np.arange(1., 7., 1.), # days                                                                                                               \n",
    "                                      infectious_time = np.arange(6., 18, 2.), # days                                                                                                            \n",
    "                                      ks = 10**np.linspace(-2, 0, 5),\n",
    "                                      a_dates = np.linspace (20, 80, 4),\n",
    "                                      a_s = np.linspace(0.1, .9, 9), backward = True)\n"
   ]
  },
  {
   "cell_type": "code",
   "execution_count": 173,
   "metadata": {},
   "outputs": [
    {
     "name": "stdout",
     "output_type": "stream",
     "text": [
      "2.4474262579409625e-07\n",
      "2.443893102160597e-07\n"
     ]
    }
   ],
   "source": [
    "S_c_g, E_c_g, I_c_g, R_c_g, C_c_g, C_m_g = SEIR_exams_measures_backward(ts, s0, e0, i0, r0, c0, c0, \n",
    "                                                            i_cuar3, betas_g, sigma_g, gamma_g, \n",
    "                                                            a_date_g, k_g, a_g)\n",
    "print (min_[3]/S_c_g[i_cuar2[-1]])\n",
    "print (min_[3]/s0)"
   ]
  },
  {
   "cell_type": "code",
   "execution_count": 174,
   "metadata": {},
   "outputs": [
    {
     "name": "stdout",
     "output_type": "stream",
     "text": [
      "[12.953268281789375, array([8.e-07, 1.e-07, 3.e-07]), 0.3333333333333333, 0.125, 60.0, 0.01, 0.5] 3.0 8.0\n"
     ]
    }
   ],
   "source": [
    "RMSE, betas_g, sigma_g, gamma_g, a_date_g, k_g, a_g = min_\n",
    "print (min_, 1./sigma_g, 1/gamma_g)\n",
    "i_cuar3 = i_cuar2\n",
    "# [12.020757851191542, array([8.e-07, 1.e-07, 5.e-07]), 0.5, 0.16666666666666666, 40.0, 0.03162277660168379, 0.3]\n",
    "#[8.486029477192394, array([7.e-07, 1.e-14]), 0.5, 0.125, 50.0, 0.1, 0.4] 2.0 8.0\n",
    "#betas_g, sigma_g, gamma_g, a_date_g, k_g, a_g = np.array([7.e-07, 1.e-14, 7.e-07]), 0.5, 0.125, 50.0, 0.1, 0.4\n",
    "#i_cuar3 = i_cuar2[:2]"
   ]
  },
  {
   "cell_type": "code",
   "execution_count": 175,
   "metadata": {},
   "outputs": [],
   "source": [
    "ts = np.arange (0, 100, 1)\n",
    "i_ini = len(i_data) - len(I_real)\n",
    "x_plot_data = np.array([df[\"Fecha_dt\"].iloc[0] + datetime.timedelta(days=i) for i in t_data.astype(float)])\n",
    "\n",
    "x_plot_proy = np.array([df[\"Fecha_dt\"].iloc[0] + datetime.timedelta(days=i) for i in np.arange(len(ts), dtype = float)])"
   ]
  },
  {
   "cell_type": "code",
   "execution_count": 178,
   "metadata": {},
   "outputs": [
    {
     "data": {
      "text/plain": [
       "<matplotlib.legend.Legend at 0x1a1cf53c50>"
      ]
     },
     "execution_count": 178,
     "metadata": {},
     "output_type": "execute_result"
    },
    {
     "data": {
      "image/png": "[encoded data removed]",
      "text/plain": [
       "<Figure size 432x288 with 1 Axes>"
      ]
     },
     "metadata": {
      "needs_background": "light"
     },
     "output_type": "display_data"
    }
   ],
   "source": [
    "\n",
    "S_c_g, E_c_g, I_c_g, R_c_g, C_c_g, C_m_g = SEIR_exams_measures_backward(ts, s0, e0, i0, r0, c0, c0, \n",
    "                                                            i_cuar3, betas_g, sigma_g, gamma_g, \n",
    "                                                            a_date_g, k_g, a_g)\n",
    "\n",
    "plt.plot (t_data, C_real, label = \"data\", marker = \"s\")\n",
    "plt.plot (ts, C_c_g, label = \"C real\")\n",
    "plt.plot (ts, I_c_g, label = \"I real\")\n",
    "plt.plot (ts, C_m_g, label = \"C measured\")\n",
    "\n",
    "plt.xlim(-5, 40)\n",
    "plt.ylim(-5, 2500)\n",
    "plt.legend()\n"
   ]
  },
  {
   "cell_type": "code",
   "execution_count": 189,
   "metadata": {
    "scrolled": true
   },
   "outputs": [
    {
     "name": "stdout",
     "output_type": "stream",
     "text": [
      "511479\n"
     ]
    },
    {
     "name": "stderr",
     "output_type": "stream",
     "text": [
      "The PostScript backend does not support transparency; partially transparent artists will be rendered opaque.\n",
      "The PostScript backend does not support transparency; partially transparent artists will be rendered opaque.\n"
     ]
    },
    {
     "data": {
      "image/png": "[encoded data removed]",
      "text/plain": [
       "<Figure size 432x288 with 1 Axes>"
      ]
     },
     "metadata": {
      "needs_background": "light"
     },
     "output_type": "display_data"
    }
   ],
   "source": [
    "print (s0)\n",
    "ts = np.arange (0, 100, 1)\n",
    "S_c_g, E_c_g, I_c_g, R_c_g, C_c_g, C_m_g = SEIR_exams_measures_backward(ts, s0, e0, i0, r0, c0, c0, \n",
    "                                                            i_cuar3, betas_g, sigma_g, gamma_g, \n",
    "                                                            a_date_g, k_g, a_g)\n",
    "\n",
    "plt.plot (x_plot_data, C_real, label = \"datos\", marker = \"s\")\n",
    "plt.plot (x_plot_proy, C_c_g, label = \"C real\")\n",
    "plt.plot (x_plot_proy, C_m_g, label = \"C medido\")\n",
    "plt.plot (x_plot_proy, I_c_g, label = \"I real\")\n",
    "plt.axvline (x_plot_proy[i_cuar2[0]], ls = \"--\", label = \"Cambio de escenario\", c = \"darkcyan\")\n",
    "for i in range (1, len(i_cuar2)):\n",
    "    plt.axvline (x_plot_proy[i_cuar2[i]], ls = \"--\", c = \"darkcyan\")\n",
    "plt.xlim (x_plot_proy[0], x_plot_proy[40])\n",
    "plt.ylim (-5, 1500)\n",
    "plt.xticks(rotation = 90)\n",
    "plt.ylabel (\"Número de Casos\")\n",
    "plt.title (\"Proyección Ñuble\")\n",
    "plt.legend(loc = \"upper left\")\n",
    "\n",
    "plt.savefig('Nuble_1.eps', format='eps')"
   ]
  },
  {
   "cell_type": "code",
   "execution_count": 203,
   "metadata": {},
   "outputs": [
    {
     "name": "stdout",
     "output_type": "stream",
     "text": [
      "511479\n"
     ]
    },
    {
     "name": "stderr",
     "output_type": "stream",
     "text": [
      "The PostScript backend does not support transparency; partially transparent artists will be rendered opaque.\n",
      "The PostScript backend does not support transparency; partially transparent artists will be rendered opaque.\n"
     ]
    },
    {
     "data": {
      "image/png": "[encoded data removed]",
      "text/plain": [
       "<Figure size 432x288 with 2 Axes>"
      ]
     },
     "metadata": {
      "needs_background": "light"
     },
     "output_type": "display_data"
    }
   ],
   "source": [
    "print (s0)\n",
    "ts = np.arange (0, 600, 1)\n",
    "x_plot_data = np.array([df[\"Fecha_dt\"].iloc[0] + datetime.timedelta(days=i) for i in t_data.astype(float)])\n",
    "\n",
    "x_plot_proy = np.array([df[\"Fecha_dt\"].iloc[0] + datetime.timedelta(days=i) for i in np.arange(len(ts), dtype = float)])\n",
    " \n",
    "S_c_g, E_c_g, I_c_g, R_c_g, C_c_g, C_m_g = SEIR_exams_measures_backward(ts, s0, e0, i0, r0, c0, c0, \n",
    "                                                            i_cuar3, betas_g, sigma_g, gamma_g, \n",
    "                                                            a_date_g, k_g, a_g)\n",
    "\n",
    "#plt.plot (x_plot_data, C_real, label = \"datos\", marker = \"s\")\n",
    "plt.plot (x_plot_proy, C_c_g, label = \"C real\")\n",
    "plt.plot (x_plot_proy, C_m_g, label = \"C medido\")\n",
    "plt.plot (x_plot_proy, I_c_g, label = \"I real\")\n",
    "plt.axvline (x_plot_proy[i_cuar2[0]], ls = \"--\", label = \"Cambio de escenario\", c = \"darkcyan\")\n",
    "for i in range (1, len(i_cuar2)):\n",
    "    plt.axvline (x_plot_proy[i_cuar2[i]], ls = \"--\", c = \"darkcyan\")\n",
    "    \n",
    "plt.axvline (x_plot_proy[I_c_g.argmax()], ls = \":\", c = \"red\", label = \"Peak de infección\")\n",
    "#plt.xlim (x_plot_proy[0], x_plot_proy[40])\n",
    "plt.xticks(rotation = 90)\n",
    "plt.ylabel (\"Número de Casos\")\n",
    "plt.title (\"Proyección Ñuble\")\n",
    "plt.legend(loc = \"upper left\")\n",
    "\n",
    "ax1 = plt.gca()\n",
    "ax2 = ax1.twinx ()\n",
    "ax2.set_ylabel (\"Porcentaje de Contagiados\")\n",
    "ax2.set_ylim (np.array(ax1.get_ylim())/ pop*100)\n",
    "\n",
    "plt.savefig('Nuble_2.eps', format='eps')"
   ]
  },
  {
   "cell_type": "code",
   "execution_count": 180,
   "metadata": {},
   "outputs": [
    {
     "name": "stdout",
     "output_type": "stream",
     "text": [
      "12.953268281789375\n"
     ]
    }
   ],
   "source": [
    "print (np.sqrt(((C_real-C_m_g[:len(C_real)])**2).mean()))"
   ]
  },
  {
   "cell_type": "code",
   "execution_count": 181,
   "metadata": {},
   "outputs": [
    {
     "data": {
      "text/plain": [
       "<matplotlib.collections.PathCollection at 0x1a1d10a0f0>"
      ]
     },
     "execution_count": 181,
     "metadata": {},
     "output_type": "execute_result"
    },
    {
     "data": {
      "image/png": "[encoded data removed]",
      "text/plain": [
       "<Figure size 432x288 with 1 Axes>"
      ]
     },
     "metadata": {
      "needs_background": "light"
     },
     "output_type": "display_data"
    }
   ],
   "source": [
    "dC_c_g = C_c_g [1:16] - C_c_g[:15]\n",
    "dC_m_g = C_m_g [1:16] - C_m_g[:15]\n",
    "a__ = dC_m_g/dC_c_g\n",
    "alphas = 1 + (a_g-1)/(1+np.exp(-k_g*(dC_c_g-a_date_g)))\n",
    "plt.plot (dC_c_g, alphas)\n",
    "\n",
    "plt.scatter (dC_c_g, a__)"
   ]
  },
  {
   "cell_type": "code",
   "execution_count": 182,
   "metadata": {},
   "outputs": [
    {
     "name": "stdout",
     "output_type": "stream",
     "text": [
      "[8.e-07 1.e-07 3.e-07]\n"
     ]
    }
   ],
   "source": [
    "print(betas_g)\n",
    "betas_g2 =np.array([7.e-7, 1.e-14, 7.e-7])"
   ]
  },
  {
   "cell_type": "code",
   "execution_count": 183,
   "metadata": {},
   "outputs": [],
   "source": [
    "S_c_g2, E_c_g2, I_c_g2, R_c_g2, C_c_g2, C_m_g2 = SEIR_exams_measures_backward(ts, s0, e0, i0, r0, c0, c0, \n",
    "                                                            [i_cuar, 30], betas_g2, sigma_g, gamma_g, \n",
    "                                                            a_date_g, k_g, a_g)"
   ]
  },
  {
   "cell_type": "code",
   "execution_count": 184,
   "metadata": {},
   "outputs": [
    {
     "data": {
      "text/plain": [
       "<matplotlib.legend.Legend at 0x1a1d2c9518>"
      ]
     },
     "execution_count": 184,
     "metadata": {},
     "output_type": "execute_result"
    },
    {
     "data": {
      "image/png": "[encoded data removed]",
      "text/plain": [
       "<Figure size 432x288 with 1 Axes>"
      ]
     },
     "metadata": {
      "needs_background": "light"
     },
     "output_type": "display_data"
    }
   ],
   "source": [
    "plt.plot (x_plot_data, C_real, label = \"data\", marker = \"s\")\n",
    "plt.plot (x_plot_proy, C_c_g2, label = \"C real\")\n",
    "plt.plot (x_plot_proy, C_m_g2, label = \"C measured\")\n",
    "plt.plot (x_plot_proy, I_c_g2, label = \"I real\")\n",
    "plt.plot ()\n",
    "plt.xlim (x_plot_proy[0], x_plot_proy[50])\n",
    "plt.ylim (-5, 1000)\n",
    "plt.xticks(rotation = 90)\n",
    "plt.ylabel (\"Número de Casos\")\n",
    "plt.title (\"Proyección Ñuble\")\n",
    "plt.legend()"
   ]
  },
  {
   "cell_type": "code",
   "execution_count": null,
   "metadata": {},
   "outputs": [],
   "source": []
  }
 ],
 "metadata": {
  "kernelspec": {
   "display_name": "Python 3",
   "language": "python",
   "name": "python3"
  },
  "language_info": {
   "codemirror_mode": {
    "name": "ipython",
    "version": 3
   },
   "file_extension": ".py",
   "mimetype": "text/x-python",
   "name": "python",
   "nbconvert_exporter": "python",
   "pygments_lexer": "ipython3",
   "version": "3.7.3"
  }
 },
 "nbformat": 4,
 "nbformat_minor": 2
}
