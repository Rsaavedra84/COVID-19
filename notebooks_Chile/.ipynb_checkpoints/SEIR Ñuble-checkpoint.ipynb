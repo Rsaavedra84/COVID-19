{
 "cells": [
  {
   "cell_type": "code",
   "execution_count": 11,
   "metadata": {},
   "outputs": [],
   "source": [
    "import pandas as pd\n",
    "import numpy as np\n",
    "import matplotlib.pyplot as plt\n",
    "\n",
    "import sys\n",
    "sys.path.insert(1, '../src/')\n",
    "\n",
    "from SEIR import *"
   ]
  },
  {
   "cell_type": "markdown",
   "metadata": {},
   "source": [
    "## Datos Ñuble"
   ]
  },
  {
   "cell_type": "code",
   "execution_count": 12,
   "metadata": {},
   "outputs": [
    {
     "name": "stderr",
     "output_type": "stream",
     "text": [
      "//anaconda3/lib/python3.7/site-packages/ipykernel_launcher.py:4: SettingWithCopyWarning: \n",
      "A value is trying to be set on a copy of a slice from a DataFrame\n",
      "\n",
      "See the caveats in the documentation: http://pandas.pydata.org/pandas-docs/stable/indexing.html#indexing-view-versus-copy\n",
      "  after removing the cwd from sys.path.\n"
     ]
    }
   ],
   "source": [
    "df = pd.read_csv (\"../data/COVID_Chile_Regiones.csv\")\n",
    "df = df.dropna(subset = [\"Region\"])\n",
    "df[\"Fecha_dt\"] = pd.to_datetime (df[\"Fecha\"])\n",
    "df[\"Fecha_dt\"][df[\"Fecha_dt\"] >= '2020-03-18'] -=  pd.Timedelta(hours=12)"
   ]
  },
  {
   "cell_type": "code",
   "execution_count": 13,
   "metadata": {},
   "outputs": [],
   "source": [
    "df_c = df[(df[\"Region\"] == \"Ñuble\") & (df[\"Contagiados\"] > 0)]"
   ]
  },
  {
   "cell_type": "code",
   "execution_count": 14,
   "metadata": {},
   "outputs": [
    {
     "data": {
      "text/html": [
       "<div>\n",
       "<style scoped>\n",
       "    .dataframe tbody tr th:only-of-type {\n",
       "        vertical-align: middle;\n",
       "    }\n",
       "\n",
       "    .dataframe tbody tr th {\n",
       "        vertical-align: top;\n",
       "    }\n",
       "\n",
       "    .dataframe thead th {\n",
       "        text-align: right;\n",
       "    }\n",
       "</style>\n",
       "<table border=\"1\" class=\"dataframe\">\n",
       "  <thead>\n",
       "    <tr style=\"text-align: right;\">\n",
       "      <th></th>\n",
       "      <th>Region</th>\n",
       "      <th>Contagiados</th>\n",
       "      <th>Muertes</th>\n",
       "      <th>Recuperados</th>\n",
       "      <th>Fecha</th>\n",
       "      <th>Total_Contagiados</th>\n",
       "      <th>Fecha_dt</th>\n",
       "    </tr>\n",
       "  </thead>\n",
       "  <tbody>\n",
       "    <tr>\n",
       "      <th>89</th>\n",
       "      <td>Ñuble</td>\n",
       "      <td>1</td>\n",
       "      <td>0</td>\n",
       "      <td>0.0</td>\n",
       "      <td>3/12/2020</td>\n",
       "      <td>NaN</td>\n",
       "      <td>2020-03-12</td>\n",
       "    </tr>\n",
       "    <tr>\n",
       "      <th>105</th>\n",
       "      <td>Ñuble</td>\n",
       "      <td>2</td>\n",
       "      <td>0</td>\n",
       "      <td>0.0</td>\n",
       "      <td>3/13/2020</td>\n",
       "      <td>NaN</td>\n",
       "      <td>2020-03-13</td>\n",
       "    </tr>\n",
       "    <tr>\n",
       "      <th>121</th>\n",
       "      <td>Ñuble</td>\n",
       "      <td>4</td>\n",
       "      <td>0</td>\n",
       "      <td>0.0</td>\n",
       "      <td>3/14/2020</td>\n",
       "      <td>NaN</td>\n",
       "      <td>2020-03-14</td>\n",
       "    </tr>\n",
       "    <tr>\n",
       "      <th>137</th>\n",
       "      <td>Ñuble</td>\n",
       "      <td>4</td>\n",
       "      <td>0</td>\n",
       "      <td>0.0</td>\n",
       "      <td>3/15/2020</td>\n",
       "      <td>NaN</td>\n",
       "      <td>2020-03-15</td>\n",
       "    </tr>\n",
       "    <tr>\n",
       "      <th>153</th>\n",
       "      <td>Ñuble</td>\n",
       "      <td>12</td>\n",
       "      <td>0</td>\n",
       "      <td>0.0</td>\n",
       "      <td>3/16/2020</td>\n",
       "      <td>NaN</td>\n",
       "      <td>2020-03-16</td>\n",
       "    </tr>\n",
       "  </tbody>\n",
       "</table>\n",
       "</div>"
      ],
      "text/plain": [
       "    Region  Contagiados  Muertes  Recuperados      Fecha  Total_Contagiados  \\\n",
       "89   Ñuble            1        0          0.0  3/12/2020                NaN   \n",
       "105  Ñuble            2        0          0.0  3/13/2020                NaN   \n",
       "121  Ñuble            4        0          0.0  3/14/2020                NaN   \n",
       "137  Ñuble            4        0          0.0  3/15/2020                NaN   \n",
       "153  Ñuble           12        0          0.0  3/16/2020                NaN   \n",
       "\n",
       "      Fecha_dt  \n",
       "89  2020-03-12  \n",
       "105 2020-03-13  \n",
       "121 2020-03-14  \n",
       "137 2020-03-15  \n",
       "153 2020-03-16  "
      ]
     },
     "execution_count": 14,
     "metadata": {},
     "output_type": "execute_result"
    }
   ],
   "source": [
    "df_c.head()"
   ]
  },
  {
   "cell_type": "code",
   "execution_count": 15,
   "metadata": {
    "scrolled": false
   },
   "outputs": [
    {
     "name": "stdout",
     "output_type": "stream",
     "text": [
      "[  1   2   4   4  12  26  26  28  44  58  64  81 105 111 114 144 172 197]\n",
      "[ 0.   1.   2.   3.   4.   5.   5.5  6.5  7.5  8.5  9.5 10.5 11.5 12.5\n",
      " 13.5 14.5 15.5 16.5]\n",
      "9 [ 58  64  81 105 111 114 144 172 197] 58\n",
      "[ 8.5  9.5 10.5 11.5 12.5 13.5 14.5 15.5 16.5]\n"
     ]
    }
   ],
   "source": [
    "i_data = df_c[\"Contagiados\"].values\n",
    "\n",
    "x_times = (pd.DataFrame(df_c[\"Fecha_dt\"] - df_c[\"Fecha_dt\"].iloc[0])/np.timedelta64(1, 'D')).values.flatten()\n",
    "\n",
    "print (i_data)\n",
    "print (x_times)\n",
    "x_times = x_times[i_data > 50]\n",
    "i_ini = len(i_data) - len(x_times)\n",
    "i_data = i_data[i_data > 50]\n",
    "print (i_ini, i_data, df_c[\"Contagiados\"].values[i_ini])\n",
    "print (x_times)"
   ]
  },
  {
   "cell_type": "code",
   "execution_count": 16,
   "metadata": {},
   "outputs": [
    {
     "name": "stdout",
     "output_type": "stream",
     "text": [
      "9 9\n",
      "11.185991975147285 1e-06 0.5 3.5\n"
     ]
    }
   ],
   "source": [
    "population = 480609\n",
    "i0 = i_data[0]\n",
    "s0 = population - i0\n",
    "e0 = 0\n",
    "r0 = 0\n",
    "\n",
    "RMSE, beta, sigma, gamma = GridSearchSEIR (x_times, i_data, s0, e0, i0, r0, backward = True)\n",
    "print (RMSE, beta, 1./sigma, 1./gamma)"
   ]
  },
  {
   "cell_type": "code",
   "execution_count": 17,
   "metadata": {},
   "outputs": [
    {
     "data": {
      "text/plain": [
       "[<matplotlib.lines.Line2D at 0x11dde4e80>]"
      ]
     },
     "execution_count": 17,
     "metadata": {},
     "output_type": "execute_result"
    },
    {
     "data": {
      "image/png": "[encoded data removed]",
      "text/plain": [
       "<Figure size 432x288 with 1 Axes>"
      ]
     },
     "metadata": {
      "needs_background": "light"
     },
     "output_type": "display_data"
    }
   ],
   "source": [
    "s_c, e_c, i_c, r_c = SEIR_backward(x_times, s0, e0, i0, r0, beta, sigma, gamma)\n",
    "\n",
    "plt.plot (x_times, i_data, marker = \"s\")\n",
    "plt.plot (x_times, i_c)"
   ]
  },
  {
   "cell_type": "code",
   "execution_count": 18,
   "metadata": {
    "scrolled": true
   },
   "outputs": [
    {
     "ename": "NameError",
     "evalue": "name 'SEIR' is not defined",
     "output_type": "error",
     "traceback": [
      "\u001b[0;31m---------------------------------------------------------------------------\u001b[0m",
      "\u001b[0;31mNameError\u001b[0m                                 Traceback (most recent call last)",
      "\u001b[0;32m<ipython-input-18-feca7bca03c2>\u001b[0m in \u001b[0;36m<module>\u001b[0;34m\u001b[0m\n\u001b[1;32m      1\u001b[0m \u001b[0mx_times_long\u001b[0m \u001b[0;34m=\u001b[0m \u001b[0mnp\u001b[0m\u001b[0;34m.\u001b[0m\u001b[0marange\u001b[0m\u001b[0;34m(\u001b[0m\u001b[0mx_times\u001b[0m\u001b[0;34m[\u001b[0m\u001b[0;36m0\u001b[0m\u001b[0;34m]\u001b[0m\u001b[0;34m,\u001b[0m \u001b[0;36m120\u001b[0m\u001b[0;34m,\u001b[0m \u001b[0;36m0.5\u001b[0m\u001b[0;34m)\u001b[0m\u001b[0;34m\u001b[0m\u001b[0;34m\u001b[0m\u001b[0m\n\u001b[0;32m----> 2\u001b[0;31m \u001b[0ms_cl\u001b[0m\u001b[0;34m,\u001b[0m \u001b[0me_cl\u001b[0m\u001b[0;34m,\u001b[0m \u001b[0mi_cl\u001b[0m\u001b[0;34m,\u001b[0m \u001b[0mr_cl\u001b[0m \u001b[0;34m=\u001b[0m \u001b[0mSEIR\u001b[0m\u001b[0;34m(\u001b[0m\u001b[0mx_times_long\u001b[0m\u001b[0;34m,\u001b[0m \u001b[0ms0\u001b[0m\u001b[0;34m,\u001b[0m \u001b[0me0\u001b[0m\u001b[0;34m,\u001b[0m \u001b[0mi0\u001b[0m\u001b[0;34m,\u001b[0m \u001b[0mr0\u001b[0m\u001b[0;34m,\u001b[0m \u001b[0mbeta\u001b[0m\u001b[0;34m,\u001b[0m \u001b[0msigma\u001b[0m\u001b[0;34m,\u001b[0m \u001b[0mgamma\u001b[0m\u001b[0;34m)\u001b[0m\u001b[0;34m\u001b[0m\u001b[0;34m\u001b[0m\u001b[0m\n\u001b[0m\u001b[1;32m      3\u001b[0m \u001b[0;34m\u001b[0m\u001b[0m\n\u001b[1;32m      4\u001b[0m \u001b[0mplt\u001b[0m\u001b[0;34m.\u001b[0m\u001b[0mplot\u001b[0m \u001b[0;34m(\u001b[0m\u001b[0mx_times_long\u001b[0m\u001b[0;34m,\u001b[0m \u001b[0mi_cl\u001b[0m\u001b[0;34m)\u001b[0m\u001b[0;34m\u001b[0m\u001b[0;34m\u001b[0m\u001b[0m\n",
      "\u001b[0;31mNameError\u001b[0m: name 'SEIR' is not defined"
     ]
    }
   ],
   "source": [
    "x_times_long = np.arange(x_times[0], 120, 0.5)\n",
    "s_cl, e_cl, i_cl, r_cl = SEIR(x_times_long, s0, e0, i0, r0, beta, sigma, gamma)\n",
    "\n",
    "plt.plot (x_times_long, i_cl)"
   ]
  },
  {
   "cell_type": "code",
   "execution_count": 19,
   "metadata": {},
   "outputs": [
    {
     "name": "stdout",
     "output_type": "stream",
     "text": [
      "[2 3 4 5 6 7 8 9]\n",
      "2 2\n",
      "0.012143679640788944 1e-06 2.0 15.0\n",
      "3 3\n",
      "0.4885958336461288 1e-06 1.5 11.5\n",
      "4 4\n",
      "0.5382833861285907 1e-06 2.0 19.0\n",
      "5 5\n",
      "7.067794394354402 1e-06 0.5 4.0\n",
      "6 6\n",
      "11.627537478618946 1e-06 0.5 4.0\n",
      "7 7\n",
      "11.986382518299136 1e-06 0.5 3.5\n",
      "8 8\n",
      "11.548370983247876 1e-06 1.0 4.5\n",
      "9 9\n",
      "11.185991975147285 1e-06 0.5 3.5\n"
     ]
    }
   ],
   "source": [
    "population = 480609\n",
    "i0 = i_data[0]\n",
    "s0 = population - i0\n",
    "e0 = 0\n",
    "r0 = 0\n",
    "\n",
    "x_times_long = np.arange(0, 120, 1.)\n",
    "r_times = np.arange(2, len (x_times)+1)\n",
    "print (r_times)\n",
    "Is = []\n",
    "\n",
    "for i_t in r_times:\n",
    "    RMSE, beta, sigma, gamma = GridSearchSEIR (x_times[:i_t], i_data[:i_t], s0, e0, i0, r0, backward = True)\n",
    "    print (RMSE, beta, 1./sigma, 1./gamma)\n",
    "    s_cl, e_cl, i_cl, r_cl = SEIR_backward(x_times_long, s0, e0, i0, r0, beta, sigma, gamma)\n",
    "    Is.append (i_cl)\n"
   ]
  },
  {
   "cell_type": "code",
   "execution_count": 20,
   "metadata": {},
   "outputs": [
    {
     "ename": "NameError",
     "evalue": "name 'backg_c' is not defined",
     "output_type": "error",
     "traceback": [
      "\u001b[0;31m---------------------------------------------------------------------------\u001b[0m",
      "\u001b[0;31mNameError\u001b[0m                                 Traceback (most recent call last)",
      "\u001b[0;32m<ipython-input-20-0b82b27ed4e5>\u001b[0m in \u001b[0;36m<module>\u001b[0;34m\u001b[0m\n\u001b[1;32m      1\u001b[0m \u001b[0mfig\u001b[0m\u001b[0;34m=\u001b[0m \u001b[0mplt\u001b[0m\u001b[0;34m.\u001b[0m\u001b[0mfigure\u001b[0m\u001b[0;34m(\u001b[0m\u001b[0;34m)\u001b[0m\u001b[0;34m\u001b[0m\u001b[0;34m\u001b[0m\u001b[0m\n\u001b[0;32m----> 2\u001b[0;31m \u001b[0mfig\u001b[0m\u001b[0;34m.\u001b[0m\u001b[0mpatch\u001b[0m\u001b[0;34m.\u001b[0m\u001b[0mset_facecolor\u001b[0m\u001b[0;34m(\u001b[0m\u001b[0mbackg_c\u001b[0m\u001b[0;34m)\u001b[0m\u001b[0;34m\u001b[0m\u001b[0;34m\u001b[0m\u001b[0m\n\u001b[0m\u001b[1;32m      3\u001b[0m \u001b[0;34m\u001b[0m\u001b[0m\n\u001b[1;32m      4\u001b[0m \u001b[0mx_plot\u001b[0m \u001b[0;34m=\u001b[0m \u001b[0mnp\u001b[0m\u001b[0;34m.\u001b[0m\u001b[0marray\u001b[0m\u001b[0;34m(\u001b[0m\u001b[0;34m[\u001b[0m\u001b[0mdf_c\u001b[0m\u001b[0;34m[\u001b[0m\u001b[0;34m\"Fecha_dt\"\u001b[0m\u001b[0;34m]\u001b[0m\u001b[0;34m.\u001b[0m\u001b[0miloc\u001b[0m\u001b[0;34m[\u001b[0m\u001b[0mi_ini\u001b[0m\u001b[0;34m]\u001b[0m \u001b[0;34m+\u001b[0m \u001b[0mdatetime\u001b[0m\u001b[0;34m.\u001b[0m\u001b[0mtimedelta\u001b[0m\u001b[0;34m(\u001b[0m\u001b[0mdays\u001b[0m\u001b[0;34m=\u001b[0m\u001b[0mi\u001b[0m\u001b[0;34m)\u001b[0m \u001b[0;32mfor\u001b[0m \u001b[0mi\u001b[0m \u001b[0;32min\u001b[0m \u001b[0mx_times_long\u001b[0m\u001b[0;34m]\u001b[0m\u001b[0;34m)\u001b[0m\u001b[0;34m\u001b[0m\u001b[0;34m\u001b[0m\u001b[0m\n\u001b[1;32m      5\u001b[0m \u001b[0;34m\u001b[0m\u001b[0m\n",
      "\u001b[0;31mNameError\u001b[0m: name 'backg_c' is not defined"
     ]
    },
    {
     "data": {
      "text/plain": [
       "<Figure size 432x288 with 0 Axes>"
      ]
     },
     "metadata": {},
     "output_type": "display_data"
    }
   ],
   "source": [
    "fig= plt.figure()\n",
    "fig.patch.set_facecolor(backg_c)\n",
    "\n",
    "x_plot = np.array([df_c[\"Fecha_dt\"].iloc[i_ini] + datetime.timedelta(days=i) for i in x_times_long])\n",
    "\n",
    "for i_ in range(len(r_times)):\n",
    "    print (len(x_plot), len(i_cl))\n",
    "    plt.plot (x_plot, Is[i_], label = \"hasta el \" + str(x_plot[r_times[i_]].strftime(\"%d/%m\")))\n",
    "#plt.xlabel (\"Días desde el primer contagio\")\n",
    "plt.ylabel (\"Numero de contagiados\", color = \"white\")\n",
    "plt.xticks (rotation = 90, color = \"white\")\n",
    "plt.yticks (color = \"white\")\n",
    "plt.title (\"Modelo SEIR para Región de Ñuble\", color = \"gold\", weight = \"bold\")\n",
    "axs = fig.axes\n",
    "for ax in axs:\n",
    "    ax.set_facecolor(backg_c)\n",
    "    ax.tick_params(axis='x', rotation = 90)\n",
    "    ax.tick_params(colors = \"white\")\n",
    "    for sp in ax.spines:\n",
    "        ax.spines[sp].set_color(\"white\")\n",
    "leg = plt.legend(framealpha=0)\n",
    "for text in leg.get_texts():\n",
    "    plt.setp(text, color = 'w')\n"
   ]
  },
  {
   "cell_type": "code",
   "execution_count": null,
   "metadata": {
    "scrolled": true
   },
   "outputs": [],
   "source": [
    "fig= plt.figure()\n",
    "\n",
    "x_plot = np.array([df_c[\"Fecha_dt\"].iloc[i_ini] + datetime.timedelta(days=i) for i in x_times_long])\n",
    "\n",
    "for i_ in range(len(r_times)):\n",
    "    print (len(x_plot), len(i_cl))\n",
    "    plt.plot (x_plot, Is[i_]/population, label = \"hasta el \" + str(x_plot[r_times[i_]].strftime(\"%d/%m\")))\n",
    "#plt.xlabel (\"Días desde el primer contagio\")\n",
    "plt.ylabel (\"Porcentaje de la población contagiada\", color = \"white\")\n",
    "plt.xticks (rotation = 90, color = \"white\")\n",
    "plt.yticks (color = \"white\")\n",
    "plt.title (\"Modelo SEIR para Región de Ñuble\", color = \"gold\", weight = \"bold\")\n",
    "fig.patch.set_facecolor(backg_c)\n",
    "axs = fig.axes\n",
    "for ax in axs:\n",
    "    ax.set_facecolor(backg_c)\n",
    "    ax.tick_params(axis='x', rotation = 90)\n",
    "    ax.tick_params(colors = \"white\")\n",
    "    for sp in ax.spines:\n",
    "        ax.spines[sp].set_color(\"white\")\n",
    "leg = plt.legend(framealpha=0)\n",
    "for text in leg.get_texts():\n",
    "    plt.setp(text, color = 'w')\n"
   ]
  },
  {
   "cell_type": "code",
   "execution_count": null,
   "metadata": {
    "scrolled": true
   },
   "outputs": [],
   "source": [
    "fig= plt.figure()\n",
    "\n",
    "plt.plot (df_c[\"Fecha_dt\"].values, df_c[\"Contagiados\"].values, marker = \"s\")\n",
    "for i_ in range(len(r_times)):\n",
    "    print (len(x_plot), len(i_cl))\n",
    "    plt.plot (x_plot, Is[i_], label = str(r_times[i_]) + \" fechas\")\n",
    "plt.ylabel (\"Numero de contagiados\", color = \"white\")\n",
    "plt.xticks (rotation = 90)\n",
    "plt.xlim ((df_c[\"Fecha_dt\"].iloc[0] - datetime.timedelta(days=1), \n",
    "           df_c[\"Fecha_dt\"].iloc[-1] + datetime.timedelta(days=1)))\n",
    "plt.ylim ((-20, df_c[\"Contagiados\"].values[-1] + 100))\n",
    "plt.title (\"Modelo SEIR para Región de Ñuble\", color = \"gold\", weight = \"bold\")\n",
    "\n",
    "fig.patch.set_facecolor(backg_c)\n",
    "axs = fig.axes\n",
    "for ax in axs:\n",
    "    ax.set_facecolor(backg_c)\n",
    "    ax.tick_params(axis='x', rotation = 90)\n",
    "    ax.tick_params(colors = \"white\")\n",
    "    for sp in ax.spines:\n",
    "        ax.spines[sp].set_color(\"white\")\n",
    "leg = plt.legend(framealpha=0)\n",
    "for text in leg.get_texts():\n",
    "    plt.setp(text, color = 'w')"
   ]
  },
  {
   "cell_type": "code",
   "execution_count": null,
   "metadata": {},
   "outputs": [],
   "source": []
  },
  {
   "cell_type": "code",
   "execution_count": null,
   "metadata": {},
   "outputs": [],
   "source": []
  }
 ],
 "metadata": {
  "kernelspec": {
   "display_name": "Python 3",
   "language": "python",
   "name": "python3"
  },
  "language_info": {
   "codemirror_mode": {
    "name": "ipython",
    "version": 3
   },
   "file_extension": ".py",
   "mimetype": "text/x-python",
   "name": "python",
   "nbconvert_exporter": "python",
   "pygments_lexer": "ipython3",
   "version": "3.7.3"
  }
 },
 "nbformat": 4,
 "nbformat_minor": 2
}
